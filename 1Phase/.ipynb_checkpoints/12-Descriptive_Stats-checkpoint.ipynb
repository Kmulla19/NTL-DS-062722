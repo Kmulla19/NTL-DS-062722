{
 "cells": [
  {
   "cell_type": "markdown",
   "metadata": {
    "toc": true
   },
   "source": [
    "<h1>Table of Contents<span class=\"tocSkip\"></span></h1>\n",
    "<div class=\"toc\"><ul class=\"toc-item\"><li><span><a href=\"#Descriptive-Analysis\" data-toc-modified-id=\"Descriptive-Analysis-1\"><span class=\"toc-item-num\">1&nbsp;&nbsp;</span>Descriptive Analysis</a></span><ul class=\"toc-item\"><li><span><a href=\"#Objectives\" data-toc-modified-id=\"Objectives-1.1\"><span class=\"toc-item-num\">1.1&nbsp;&nbsp;</span>Objectives</a></span></li></ul></li><li><span><a href=\"#Sample-Data\" data-toc-modified-id=\"Sample-Data-2\"><span class=\"toc-item-num\">2&nbsp;&nbsp;</span>Sample Data</a></span><ul class=\"toc-item\"><li><span><a href=\"#df.describe()\" data-toc-modified-id=\"df.describe()-2.1\"><span class=\"toc-item-num\">2.1&nbsp;&nbsp;</span><code>df.describe()</code></a></span></li></ul></li><li><span><a href=\"#Different-Statistical-Measures\" data-toc-modified-id=\"Different-Statistical-Measures-3\"><span class=\"toc-item-num\">3&nbsp;&nbsp;</span>Different Statistical Measures</a></span><ul class=\"toc-item\"><li><span><a href=\"#Measures-of-Center\" data-toc-modified-id=\"Measures-of-Center-3.1\"><span class=\"toc-item-num\">3.1&nbsp;&nbsp;</span>Measures of Center</a></span><ul class=\"toc-item\"><li><span><a href=\"#Mathematical-Properties\" data-toc-modified-id=\"Mathematical-Properties-3.1.1\"><span class=\"toc-item-num\">3.1.1&nbsp;&nbsp;</span>Mathematical Properties</a></span></li></ul></li><li><span><a href=\"#Measures-of-Spread\" data-toc-modified-id=\"Measures-of-Spread-3.2\"><span class=\"toc-item-num\">3.2&nbsp;&nbsp;</span>Measures of Spread</a></span><ul class=\"toc-item\"><li><span><a href=\"#Min,-Max,-and-Range\" data-toc-modified-id=\"Min,-Max,-and-Range-3.2.1\"><span class=\"toc-item-num\">3.2.1&nbsp;&nbsp;</span>Min, Max, and Range</a></span></li><li><span><a href=\"#Percentiles-and-IQR\" data-toc-modified-id=\"Percentiles-and-IQR-3.2.2\"><span class=\"toc-item-num\">3.2.2&nbsp;&nbsp;</span>Percentiles and IQR</a></span></li><li><span><a href=\"#Standard-Deviation\" data-toc-modified-id=\"Standard-Deviation-3.2.3\"><span class=\"toc-item-num\">3.2.3&nbsp;&nbsp;</span>Standard Deviation</a></span></li></ul></li></ul></li><li><span><a href=\"#Visual-Description\" data-toc-modified-id=\"Visual-Description-4\"><span class=\"toc-item-num\">4&nbsp;&nbsp;</span>Visual Description</a></span><ul class=\"toc-item\"><li><span><a href=\"#Histograms\" data-toc-modified-id=\"Histograms-4.1\"><span class=\"toc-item-num\">4.1&nbsp;&nbsp;</span>Histograms</a></span><ul class=\"toc-item\"><li><span><a href=\"#The-&quot;right&quot;-number-of-bins\" data-toc-modified-id=\"The-&quot;right&quot;-number-of-bins-4.1.1\"><span class=\"toc-item-num\">4.1.1&nbsp;&nbsp;</span>The \"right\" number of bins</a></span></li></ul></li><li><span><a href=\"#Box-and-Whisker-Plot\" data-toc-modified-id=\"Box-and-Whisker-Plot-4.2\"><span class=\"toc-item-num\">4.2&nbsp;&nbsp;</span>Box and Whisker Plot</a></span></li></ul></li><li><span><a href=\"#Addressing-Business-Questions\" data-toc-modified-id=\"Addressing-Business-Questions-5\"><span class=\"toc-item-num\">5&nbsp;&nbsp;</span>Addressing Business Questions</a></span><ul class=\"toc-item\"><li><span><a href=\"#Fast-Food-Data\" data-toc-modified-id=\"Fast-Food-Data-5.1\"><span class=\"toc-item-num\">5.1&nbsp;&nbsp;</span>Fast Food Data</a></span><ul class=\"toc-item\"><li><span><a href=\"#Question-1:\" data-toc-modified-id=\"Question-1:-5.1.1\"><span class=\"toc-item-num\">5.1.1&nbsp;&nbsp;</span>Question 1:</a></span></li><li><span><a href=\"#Question-2\" data-toc-modified-id=\"Question-2-5.1.2\"><span class=\"toc-item-num\">5.1.2&nbsp;&nbsp;</span>Question 2</a></span></li><li><span><a href=\"#Question-3-(Exercise!):\" data-toc-modified-id=\"Question-3-(Exercise!):-5.1.3\"><span class=\"toc-item-num\">5.1.3&nbsp;&nbsp;</span>Question 3 (Exercise!):</a></span></li><li><span><a href=\"#Question-4-(Exercise!):\" data-toc-modified-id=\"Question-4-(Exercise!):-5.1.4\"><span class=\"toc-item-num\">5.1.4&nbsp;&nbsp;</span>Question 4 (Exercise!):</a></span></li><li><span><a href=\"#Question-5-(Exercise!)\" data-toc-modified-id=\"Question-5-(Exercise!)-5.1.5\"><span class=\"toc-item-num\">5.1.5&nbsp;&nbsp;</span>Question 5 (Exercise!)</a></span></li></ul></li><li><span><a href=\"#Credit-Card-Data\" data-toc-modified-id=\"Credit-Card-Data-5.2\"><span class=\"toc-item-num\">5.2&nbsp;&nbsp;</span>Credit Card Data</a></span><ul class=\"toc-item\"><li><span><a href=\"#Question-1-(Exercise!)\" data-toc-modified-id=\"Question-1-(Exercise!)-5.2.1\"><span class=\"toc-item-num\">5.2.1&nbsp;&nbsp;</span>Question 1 (Exercise!)</a></span></li><li><span><a href=\"#Question-2-(Exercise!)\" data-toc-modified-id=\"Question-2-(Exercise!)-5.2.2\"><span class=\"toc-item-num\">5.2.2&nbsp;&nbsp;</span>Question 2 (Exercise!)</a></span></li><li><span><a href=\"#Question-3-(Exercise!)\" data-toc-modified-id=\"Question-3-(Exercise!)-5.2.3\"><span class=\"toc-item-num\">5.2.3&nbsp;&nbsp;</span>Question 3 (Exercise!)</a></span></li></ul></li></ul></li><li><span><a href=\"#Level-Up:-Other-Shape-Descriptors\" data-toc-modified-id=\"Level-Up:-Other-Shape-Descriptors-6\"><span class=\"toc-item-num\">6&nbsp;&nbsp;</span>Level Up: Other Shape Descriptors</a></span><ul class=\"toc-item\"><li><span><a href=\"#Moments\" data-toc-modified-id=\"Moments-6.1\"><span class=\"toc-item-num\">6.1&nbsp;&nbsp;</span>Moments</a></span><ul class=\"toc-item\"><li><span><a href=\"#Skewness\" data-toc-modified-id=\"Skewness-6.1.1\"><span class=\"toc-item-num\">6.1.1&nbsp;&nbsp;</span>Skewness</a></span></li><li><span><a href=\"#Kurtosis\" data-toc-modified-id=\"Kurtosis-6.1.2\"><span class=\"toc-item-num\">6.1.2&nbsp;&nbsp;</span>Kurtosis</a></span></li></ul></li><li><span><a href=\"#Symmetry\" data-toc-modified-id=\"Symmetry-6.2\"><span class=\"toc-item-num\">6.2&nbsp;&nbsp;</span>Symmetry</a></span></li><li><span><a href=\"#Modality\" data-toc-modified-id=\"Modality-6.3\"><span class=\"toc-item-num\">6.3&nbsp;&nbsp;</span>Modality</a></span></li></ul></li></ul></div>"
   ]
  },
  {
   "cell_type": "code",
   "execution_count": 1,
   "metadata": {},
   "outputs": [],
   "source": [
    "from scipy import stats\n",
    "from matplotlib import pyplot as plt\n",
    "import seaborn as sns\n",
    "import pandas as pd\n",
    "import numpy as np\n",
    "\n",
    "%matplotlib inline\n",
    "\n",
    "plt.style.use('fivethirtyeight')"
   ]
  },
  {
   "cell_type": "markdown",
   "metadata": {
    "heading_collapsed": true
   },
   "source": [
    "# Descriptive Analysis"
   ]
  },
  {
   "cell_type": "markdown",
   "metadata": {
    "hidden": true
   },
   "source": [
    "When trying to understand your data, it is typically impossible to just look at raw data and get much insight. We need ways to turn a bunch of data into a smaller set of numbers that are easily digestible summaries of your data. This will make them understandable both for you and for the people you work with. We call these **descriptive statistics**."
   ]
  },
  {
   "cell_type": "markdown",
   "metadata": {
    "heading_collapsed": true,
    "hidden": true
   },
   "source": [
    "## Objectives"
   ]
  },
  {
   "cell_type": "markdown",
   "metadata": {
    "hidden": true
   },
   "source": [
    "- Use business context to guide exploratory analyses\n",
    "- Pose clear business-relevant questions and answer them with data\n",
    "- Identify limitations of data for solving business problems"
   ]
  },
  {
   "cell_type": "markdown",
   "metadata": {
    "heading_collapsed": true
   },
   "source": [
    "# Sample Data"
   ]
  },
  {
   "cell_type": "markdown",
   "metadata": {
    "hidden": true
   },
   "source": [
    "Let's build a simple dataset, based on a hypothetical survey of the number of pairs of shoes owned by 11 random people:"
   ]
  },
  {
   "cell_type": "code",
   "execution_count": 2,
   "metadata": {
    "hidden": true
   },
   "outputs": [],
   "source": [
    "data = np.array([5, 6, 3, 4, 3, 4, 8, 8, 1, 8, 2])\n",
    "data_df = pd.DataFrame(data, columns=[\"Pairs of Shoes\"])"
   ]
  },
  {
   "cell_type": "markdown",
   "metadata": {
    "heading_collapsed": true,
    "hidden": true
   },
   "source": [
    "## `df.describe()`"
   ]
  },
  {
   "cell_type": "markdown",
   "metadata": {
    "hidden": true
   },
   "source": [
    "This dataset has a bunch of individual observations in a range of values. These observations have an **empirical distribution** describing how the values are distributed across this range. We'll shorten this to just **distribution** for now. Everything that follows is our attempt to understand the distribution of our data."
   ]
  },
  {
   "cell_type": "markdown",
   "metadata": {
    "hidden": true
   },
   "source": [
    "You can actually get a bunch of descriptive statistics from any `pandas` DataFrame using the `.describe()` method. This should be one of the first things you'll do when exploring a new dataset."
   ]
  },
  {
   "cell_type": "code",
   "execution_count": 3,
   "metadata": {
    "hidden": true
   },
   "outputs": [
    {
     "data": {
      "text/html": [
       "<div>\n",
       "<style scoped>\n",
       "    .dataframe tbody tr th:only-of-type {\n",
       "        vertical-align: middle;\n",
       "    }\n",
       "\n",
       "    .dataframe tbody tr th {\n",
       "        vertical-align: top;\n",
       "    }\n",
       "\n",
       "    .dataframe thead th {\n",
       "        text-align: right;\n",
       "    }\n",
       "</style>\n",
       "<table border=\"1\" class=\"dataframe\">\n",
       "  <thead>\n",
       "    <tr style=\"text-align: right;\">\n",
       "      <th></th>\n",
       "      <th>Pairs of Shoes</th>\n",
       "    </tr>\n",
       "  </thead>\n",
       "  <tbody>\n",
       "    <tr>\n",
       "      <th>count</th>\n",
       "      <td>11.000000</td>\n",
       "    </tr>\n",
       "    <tr>\n",
       "      <th>mean</th>\n",
       "      <td>4.727273</td>\n",
       "    </tr>\n",
       "    <tr>\n",
       "      <th>std</th>\n",
       "      <td>2.493628</td>\n",
       "    </tr>\n",
       "    <tr>\n",
       "      <th>min</th>\n",
       "      <td>1.000000</td>\n",
       "    </tr>\n",
       "    <tr>\n",
       "      <th>25%</th>\n",
       "      <td>3.000000</td>\n",
       "    </tr>\n",
       "    <tr>\n",
       "      <th>50%</th>\n",
       "      <td>4.000000</td>\n",
       "    </tr>\n",
       "    <tr>\n",
       "      <th>75%</th>\n",
       "      <td>7.000000</td>\n",
       "    </tr>\n",
       "    <tr>\n",
       "      <th>max</th>\n",
       "      <td>8.000000</td>\n",
       "    </tr>\n",
       "  </tbody>\n",
       "</table>\n",
       "</div>"
      ],
      "text/plain": [
       "       Pairs of Shoes\n",
       "count       11.000000\n",
       "mean         4.727273\n",
       "std          2.493628\n",
       "min          1.000000\n",
       "25%          3.000000\n",
       "50%          4.000000\n",
       "75%          7.000000\n",
       "max          8.000000"
      ]
     },
     "execution_count": 3,
     "metadata": {},
     "output_type": "execute_result"
    }
   ],
   "source": [
    "# describe\n",
    "data_df.describe()"
   ]
  },
  {
   "cell_type": "markdown",
   "metadata": {
    "heading_collapsed": true
   },
   "source": [
    "# Different Statistical Measures"
   ]
  },
  {
   "cell_type": "markdown",
   "metadata": {
    "heading_collapsed": true,
    "hidden": true
   },
   "source": [
    "## Measures of Center"
   ]
  },
  {
   "cell_type": "markdown",
   "metadata": {
    "hidden": true
   },
   "source": [
    "One natural place to begin is to ask about where the **middle** of the data is. In other words, what is the value that is closest to our other values? "
   ]
  },
  {
   "cell_type": "markdown",
   "metadata": {
    "hidden": true
   },
   "source": [
    "There are three common measures used to describe the \"middle\":\n",
    "\n",
    "- **Mean**: The sum of values / number of values\n",
    "- **Median**: The value with as many values above it as below it\n",
    "    - If the dataset has an even number of values, the median is the mean of the two middle numbers.\n",
    "- **Mode**: The most frequent value(s)\n",
    "    - A dataset can have multiple modes if multiple values are tied for the most frequent."
   ]
  },
  {
   "cell_type": "markdown",
   "metadata": {
    "hidden": true
   },
   "source": [
    "Let's see what we have for our example:"
   ]
  },
  {
   "cell_type": "code",
   "execution_count": 4,
   "metadata": {
    "hidden": true
   },
   "outputs": [
    {
     "name": "stdout",
     "output_type": "stream",
     "text": [
      "Mean: 4.7272727272727275\n",
      "Median: 4.0\n",
      "Mode: 8\n"
     ]
    }
   ],
   "source": [
    "print(f\"Mean: {np.mean(data)}\")\n",
    "print(f\"Median: {np.median(data)}\")\n",
    "print(f\"Mode: {stats.mode(data)[0][0]}\")"
   ]
  },
  {
   "cell_type": "code",
   "execution_count": 5,
   "metadata": {
    "hidden": true
   },
   "outputs": [
    {
     "data": {
      "text/plain": [
       "ModeResult(mode=array([8]), count=array([3]))"
      ]
     },
     "execution_count": 5,
     "metadata": {},
     "output_type": "execute_result"
    }
   ],
   "source": [
    "## You can also find the mode(s) using np.unique()\n",
    "stats.mode(data)"
   ]
  },
  {
   "cell_type": "code",
   "execution_count": 6,
   "metadata": {},
   "outputs": [],
   "source": [
    "counts = np.unique(data, return_counts=True)"
   ]
  },
  {
   "cell_type": "code",
   "execution_count": 7,
   "metadata": {},
   "outputs": [
    {
     "data": {
      "text/plain": [
       "(array([1, 2, 3, 4, 5, 6, 8]), array([1, 1, 2, 2, 1, 1, 3]))"
      ]
     },
     "execution_count": 7,
     "metadata": {},
     "output_type": "execute_result"
    }
   ],
   "source": [
    "counts"
   ]
  },
  {
   "cell_type": "markdown",
   "metadata": {
    "hidden": true
   },
   "source": [
    "**Discussion**: If somebody asked you \"How many pairs of shoes do people usually have?\", how would you answer (based on these data)?"
   ]
  },
  {
   "cell_type": "markdown",
   "metadata": {
    "heading_collapsed": true,
    "hidden": true
   },
   "source": [
    "### Mathematical Properties"
   ]
  },
  {
   "cell_type": "markdown",
   "metadata": {
    "hidden": true
   },
   "source": [
    "The mean $\\bar{x}$ is the point that minimizes the *sum of squared differences* for a given set of data.\n",
    "\n",
    "<details>\n",
    "    <summary>\n",
    "        Proof\n",
    "    </summary>\n",
    "    We want to find the point $k$ that minimizes $L(k) = \\Sigma^n_{i=1}(x_i-k)^2$. Now, a calculus trick, which we'll see again: To find the minimum of a function, we'll set its derivative to 0. Taking the derivative, we have:\n",
    "\n",
    "$L'(k) = -2\\Sigma^n_{i=1}(x_i-k)$.\n",
    "\n",
    "Now we solve $L'(k) = 0$ for $k$:\n",
    "\n",
    "$-2\\Sigma^n_{i=1}(x_i-k) = 0$, so <br/><br/>\n",
    "$\\Sigma^n_{i=1}(x_i-k) = 0$, so <br/><br/>\n",
    "$\\Sigma^n_{i=1}x_i = \\Sigma^n_{i=1}k = nk$, so <br/><br/>\n",
    "$k = \\frac{\\Sigma^n_{i=1}x_i}{n} = \\bar{x}$.\n",
    "    </details>\n"
   ]
  },
  {
   "cell_type": "markdown",
   "metadata": {
    "hidden": true
   },
   "source": [
    "By contrast, the median is the point that minimizes the *sum of absolute differences*.\n",
    "\n",
    "<details>\n",
    "    <summary>\n",
    "    Proof\n",
    "    </summary>\n",
    "    We want to find the point $k$ that minimizes $D(k) = \\Sigma^n_{i=1}|x_i-k|$. Taking the derivative, we have:\n",
    "\n",
    "$D'(k) = \\Sigma^n_{i=1}\\frac{k-x_i}{|k-x_i|}$.\n",
    "\n",
    "Now we solve $D'(k) = 0$ for $k$:\n",
    "\n",
    "Consider the sum $\\Sigma^n_{i=1}\\frac{k-x_i}{|k-x_i|} = 0$. Ignoring the case where $k = x_i$, each of the addends in this sum is $1$ if $k\\geq x_i$ and $-1$ if not. To make this sum equal to 0, we thus want to choose $k$ such that there are the same number of $1$s and $-1$s, which means that we want to choose $k$ to be the middle number, i.e. the median.\n",
    "\n",
    "Notes:\n",
    "- if $n$ is odd, then the minimum of the function occurs not where its derivative is 0 but where it is *undefined*;\n",
    "- if $n$ is even, then *any* number between the two middle numbers will minimize our function. By conventional defintion of the median in cases of an even number of data points, we take the arithmetic mean of the two middle numbers.\n",
    "    </details>"
   ]
  },
  {
   "cell_type": "markdown",
   "metadata": {
    "heading_collapsed": true,
    "hidden": true
   },
   "source": [
    "## Measures of Spread"
   ]
  },
  {
   "cell_type": "markdown",
   "metadata": {
    "hidden": true
   },
   "source": [
    "Another natural question is about the **spread** of the data. In other words, how wide a range of values do you have? And how close or far are they from the \"middle\"?"
   ]
  },
  {
   "cell_type": "markdown",
   "metadata": {
    "heading_collapsed": true,
    "hidden": true
   },
   "source": [
    "### Min, Max, and Range"
   ]
  },
  {
   "cell_type": "markdown",
   "metadata": {
    "hidden": true
   },
   "source": [
    "The minimum and maximum values of a dataset tell you the full extent of the values of your dataset. The range of the dataset is the difference between those two values."
   ]
  },
  {
   "cell_type": "code",
   "execution_count": 8,
   "metadata": {
    "hidden": true
   },
   "outputs": [
    {
     "name": "stdout",
     "output_type": "stream",
     "text": [
      "Min: 1\n",
      "Max: 8\n",
      "Range: 7\n"
     ]
    }
   ],
   "source": [
    "print(f\"Min: {data.min()}\")\n",
    "print(f\"Max: {data.max()}\")\n",
    "print(f\"Range: {data.max() - data.min()}\")"
   ]
  },
  {
   "cell_type": "markdown",
   "metadata": {
    "heading_collapsed": true,
    "hidden": true
   },
   "source": [
    "### Percentiles and IQR"
   ]
  },
  {
   "cell_type": "markdown",
   "metadata": {
    "hidden": true
   },
   "source": [
    "You can also calculate values at various **percentiles** to understand the spread. An \"Nth Percentile\" value is the value that is greater than N% of other values. The 25th and 75th percentiles are commonly used to describe spread, and the **interquartile range (IQR)** is the difference between these two values.\n",
    "\n",
    "See [the docs](https://numpy.org/doc/stable/reference/generated/numpy.percentile.html) for more specifics about how percentiles are calculated, which is surprisingly tricky."
   ]
  },
  {
   "cell_type": "code",
   "execution_count": 9,
   "metadata": {
    "hidden": true
   },
   "outputs": [
    {
     "name": "stdout",
     "output_type": "stream",
     "text": [
      "25th Percentile: 3.0\n",
      "75th Percentile: 7.0\n",
      "IQR: 4.0\n"
     ]
    }
   ],
   "source": [
    "print(f\"25th Percentile: {np.percentile(data, 25)}\")\n",
    "print(f\"75th Percentile: {np.percentile(data, 75)}\")\n",
    "print(f\"IQR: {np.percentile(data, 75) - np.percentile(data, 25)}\")"
   ]
  },
  {
   "cell_type": "markdown",
   "metadata": {
    "heading_collapsed": true,
    "hidden": true
   },
   "source": [
    "### Standard Deviation"
   ]
  },
  {
   "cell_type": "markdown",
   "metadata": {
    "hidden": true
   },
   "source": [
    "The **standard deviation** is in effect the distance from the mean of the \"average\" data point. It is defined as: $$\\sqrt\\frac{\\Sigma(x_i - \\bar{x})^2}{n}$$."
   ]
  },
  {
   "cell_type": "code",
   "execution_count": 10,
   "metadata": {
    "hidden": true,
    "scrolled": true
   },
   "outputs": [
    {
     "name": "stdout",
     "output_type": "stream",
     "text": [
      "Standard Deviation: 2.3775812419312765\n"
     ]
    }
   ],
   "source": [
    "print(f\"Standard Deviation: {data.std()}\")"
   ]
  },
  {
   "cell_type": "markdown",
   "metadata": {
    "heading_collapsed": true
   },
   "source": [
    "# Visual Description"
   ]
  },
  {
   "cell_type": "markdown",
   "metadata": {
    "hidden": true
   },
   "source": [
    "A picture is worth a thousand words - or numbers! Here we will show how to use histograms and box-and-whisker plots to describe your data."
   ]
  },
  {
   "cell_type": "markdown",
   "metadata": {
    "heading_collapsed": true,
    "hidden": true
   },
   "source": [
    "## Histograms"
   ]
  },
  {
   "cell_type": "markdown",
   "metadata": {
    "hidden": true
   },
   "source": [
    "One natural way of starting to understand a dataset is to construct a **histogram**, which is a bar chart showing the counts of the different values in the dataset.\n",
    "\n",
    "There will usually be many distinct values in your dataset, and you will need to decide how many **bins** to use in the histogram. The bins define the ranges of values captured in each bar in your chart. "
   ]
  },
  {
   "cell_type": "code",
   "execution_count": 11,
   "metadata": {
    "hidden": true
   },
   "outputs": [
    {
     "data": {
      "text/plain": [
       "Text(0.5, 1.0, 'Counts, 14 Bins')"
      ]
     },
     "execution_count": 11,
     "metadata": {},
     "output_type": "execute_result"
    },
    {
     "data": {
      "image/png": "[encoded data removed]",
      "text/plain": [
       "<Figure size 432x288 with 1 Axes>"
      ]
     },
     "metadata": {},
     "output_type": "display_data"
    }
   ],
   "source": [
    "fig, ax = plt.subplots()\n",
    "ax.hist(data, bins=14)\n",
    "plt.title('Counts, 14 Bins')"
   ]
  },
  {
   "cell_type": "code",
   "execution_count": 12,
   "metadata": {
    "hidden": true
   },
   "outputs": [
    {
     "data": {
      "text/plain": [
       "Text(0.5, 1.0, 'Counts, 10 Bins')"
      ]
     },
     "execution_count": 12,
     "metadata": {},
     "output_type": "execute_result"
    },
    {
     "data": {
      "image/png": "[encoded data removed]",
      "text/plain": [
       "<Figure size 432x288 with 1 Axes>"
      ]
     },
     "metadata": {},
     "output_type": "display_data"
    }
   ],
   "source": [
    "fig, ax = plt.subplots()\n",
    "ax.hist(data, bins=10)\n",
    "plt.title('Counts, 10 Bins')"
   ]
  },
  {
   "cell_type": "code",
   "execution_count": 13,
   "metadata": {
    "hidden": true
   },
   "outputs": [
    {
     "data": {
      "text/plain": [
       "Text(0.5, 1.0, 'Counts, 5 Bins')"
      ]
     },
     "execution_count": 13,
     "metadata": {},
     "output_type": "execute_result"
    },
    {
     "data": {
      "image/png": "[encoded data removed]",
      "text/plain": [
       "<Figure size 432x288 with 1 Axes>"
      ]
     },
     "metadata": {},
     "output_type": "display_data"
    }
   ],
   "source": [
    "fig, ax = plt.subplots()\n",
    "ax.hist(data, bins=5)\n",
    "plt.title('Counts, 5 Bins')"
   ]
  },
  {
   "cell_type": "code",
   "execution_count": 14,
   "metadata": {
    "hidden": true
   },
   "outputs": [
    {
     "data": {
      "text/plain": [
       "Text(0.5, 1.0, 'Counts, 7 Bins')"
      ]
     },
     "execution_count": 14,
     "metadata": {},
     "output_type": "execute_result"
    },
    {
     "data": {
      "image/png": "[encoded data removed]",
      "text/plain": [
       "<Figure size 432x288 with 1 Axes>"
      ]
     },
     "metadata": {},
     "output_type": "display_data"
    }
   ],
   "source": [
    "fig, ax = plt.subplots()\n",
    "ax.hist(data, bins=7)\n",
    "plt.title('Counts, 7 Bins')"
   ]
  },
  {
   "cell_type": "markdown",
   "metadata": {
    "heading_collapsed": true,
    "hidden": true
   },
   "source": [
    "### The \"right\" number of bins\n",
    "\n",
    "Using the wrong number of bins in a histogram can cause you to make invalid assumptions.\n",
    "\n",
    "What's the \"right\" number of bins?\n",
    "\n",
    "Easy: Depends.\n",
    "\n",
    "There are many ways of calculating the correct number of bins. However, we will stick with the most common method as outlined in [this Wikipedia](https://en.wikipedia.org/wiki/Histogram#Number_of_bins_and_width) article.\n",
    "\n",
    "Namely:\n",
    "\n",
    "$$\\lceil\\sqrt n \\rceil$$\n",
    "\n",
    "with n being number of samples."
   ]
  },
  {
   "cell_type": "code",
   "execution_count": 17,
   "metadata": {
    "hidden": true
   },
   "outputs": [
    {
     "data": {
      "image/png": "[encoded data removed]",
      "text/plain": [
       "<Figure size 432x288 with 1 Axes>"
      ]
     },
     "metadata": {},
     "output_type": "display_data"
    }
   ],
   "source": [
    "bins = int( len(data)**(1/2) )\n",
    "\n",
    "fig, ax = plt.subplots()\n",
    "ax.hist(data, bins=bins)\n",
    "plt.title(f'Counts, SQRT of number of obserations: {bins} ');"
   ]
  },
  {
   "cell_type": "markdown",
   "metadata": {
    "heading_collapsed": true,
    "hidden": true
   },
   "source": [
    "## Box and Whisker Plot"
   ]
  },
  {
   "cell_type": "markdown",
   "metadata": {
    "hidden": true
   },
   "source": [
    "A box-and-whisker plot can also be useful for visually summarizing your data by showing the min, IQR, and max. [This article](https://towardsdatascience.com/understanding-boxplots-5e2df7bcbd51) explains how to read them."
   ]
  },
  {
   "cell_type": "code",
   "execution_count": 18,
   "metadata": {
    "hidden": true
   },
   "outputs": [
    {
     "data": {
      "text/plain": [
       "Text(0.5, 1.0, 'Counts of Pairs of Shoes')"
      ]
     },
     "execution_count": 18,
     "metadata": {},
     "output_type": "execute_result"
    },
    {
     "data": {
      "image/png": "[encoded data removed]",
      "text/plain": [
       "<Figure size 432x288 with 1 Axes>"
      ]
     },
     "metadata": {},
     "output_type": "display_data"
    }
   ],
   "source": [
    "fig, ax = plt.subplots()\n",
    "ax.boxplot(data)\n",
    "plt.title('Counts of Pairs of Shoes')"
   ]
  },
  {
   "cell_type": "markdown",
   "metadata": {
    "heading_collapsed": true
   },
   "source": [
    "# Addressing Business Questions"
   ]
  },
  {
   "cell_type": "markdown",
   "metadata": {
    "heading_collapsed": true,
    "hidden": true
   },
   "source": [
    "## Fast Food Data"
   ]
  },
  {
   "cell_type": "code",
   "execution_count": 19,
   "metadata": {
    "hidden": true
   },
   "outputs": [],
   "source": [
    "ffood = pd.read_csv('data/Datafiniti_Fast_Food.csv')"
   ]
  },
  {
   "cell_type": "code",
   "execution_count": 20,
   "metadata": {
    "hidden": true,
    "scrolled": true
   },
   "outputs": [
    {
     "data": {
      "text/html": [
       "<div>\n",
       "<style scoped>\n",
       "    .dataframe tbody tr th:only-of-type {\n",
       "        vertical-align: middle;\n",
       "    }\n",
       "\n",
       "    .dataframe tbody tr th {\n",
       "        vertical-align: top;\n",
       "    }\n",
       "\n",
       "    .dataframe thead th {\n",
       "        text-align: right;\n",
       "    }\n",
       "</style>\n",
       "<table border=\"1\" class=\"dataframe\">\n",
       "  <thead>\n",
       "    <tr style=\"text-align: right;\">\n",
       "      <th></th>\n",
       "      <th>id</th>\n",
       "      <th>dateAdded</th>\n",
       "      <th>dateUpdated</th>\n",
       "      <th>address</th>\n",
       "      <th>categories</th>\n",
       "      <th>city</th>\n",
       "      <th>country</th>\n",
       "      <th>keys</th>\n",
       "      <th>latitude</th>\n",
       "      <th>longitude</th>\n",
       "      <th>name</th>\n",
       "      <th>postalCode</th>\n",
       "      <th>province</th>\n",
       "      <th>sourceURLs</th>\n",
       "      <th>websites</th>\n",
       "    </tr>\n",
       "  </thead>\n",
       "  <tbody>\n",
       "    <tr>\n",
       "      <th>0</th>\n",
       "      <td>AVwcmSyZIN2L1WUfmxyw</td>\n",
       "      <td>2015-10-19T23:47:58Z</td>\n",
       "      <td>2018-06-26T03:00:14Z</td>\n",
       "      <td>800 N Canal Blvd</td>\n",
       "      <td>American Restaurant and Fast Food Restaurant</td>\n",
       "      <td>Thibodaux</td>\n",
       "      <td>US</td>\n",
       "      <td>us/la/thibodaux/800ncanalblvd/1780593795</td>\n",
       "      <td>29.814697</td>\n",
       "      <td>-90.814742</td>\n",
       "      <td>SONIC Drive In</td>\n",
       "      <td>70301</td>\n",
       "      <td>LA</td>\n",
       "      <td>https://foursquare.com/v/sonic-drive-in/4b7361...</td>\n",
       "      <td>https://locations.sonicdrivein.com/la/thibodau...</td>\n",
       "    </tr>\n",
       "    <tr>\n",
       "      <th>1</th>\n",
       "      <td>AVwcmSyZIN2L1WUfmxyw</td>\n",
       "      <td>2015-10-19T23:47:58Z</td>\n",
       "      <td>2018-06-26T03:00:14Z</td>\n",
       "      <td>800 N Canal Blvd</td>\n",
       "      <td>Fast Food Restaurants</td>\n",
       "      <td>Thibodaux</td>\n",
       "      <td>US</td>\n",
       "      <td>us/la/thibodaux/800ncanalblvd/1780593795</td>\n",
       "      <td>29.814697</td>\n",
       "      <td>-90.814742</td>\n",
       "      <td>SONIC Drive In</td>\n",
       "      <td>70301</td>\n",
       "      <td>LA</td>\n",
       "      <td>https://foursquare.com/v/sonic-drive-in/4b7361...</td>\n",
       "      <td>https://locations.sonicdrivein.com/la/thibodau...</td>\n",
       "    </tr>\n",
       "    <tr>\n",
       "      <th>2</th>\n",
       "      <td>AVwcopQoByjofQCxgfVa</td>\n",
       "      <td>2016-03-29T05:06:36Z</td>\n",
       "      <td>2018-06-26T02:59:52Z</td>\n",
       "      <td>206 Wears Valley Rd</td>\n",
       "      <td>Fast Food Restaurant</td>\n",
       "      <td>Pigeon Forge</td>\n",
       "      <td>US</td>\n",
       "      <td>us/tn/pigeonforge/206wearsvalleyrd/-864103396</td>\n",
       "      <td>35.803788</td>\n",
       "      <td>-83.580553</td>\n",
       "      <td>Taco Bell</td>\n",
       "      <td>37863</td>\n",
       "      <td>TN</td>\n",
       "      <td>https://www.yellowpages.com/pigeon-forge-tn/mi...</td>\n",
       "      <td>http://www.tacobell.com,https://locations.taco...</td>\n",
       "    </tr>\n",
       "    <tr>\n",
       "      <th>3</th>\n",
       "      <td>AVweXN5RByjofQCxxilK</td>\n",
       "      <td>2017-01-03T07:46:11Z</td>\n",
       "      <td>2018-06-26T02:59:51Z</td>\n",
       "      <td>3652 Parkway</td>\n",
       "      <td>Fast Food</td>\n",
       "      <td>Pigeon Forge</td>\n",
       "      <td>US</td>\n",
       "      <td>us/tn/pigeonforge/3652parkway/93075755</td>\n",
       "      <td>35.782339</td>\n",
       "      <td>-83.551408</td>\n",
       "      <td>Arby's</td>\n",
       "      <td>37863</td>\n",
       "      <td>TN</td>\n",
       "      <td>http://www.yellowbook.com/profile/arbys_163389...</td>\n",
       "      <td>http://www.arbys.com,https://locations.arbys.c...</td>\n",
       "    </tr>\n",
       "    <tr>\n",
       "      <th>4</th>\n",
       "      <td>AWQ6MUvo3-Khe5l_j3SG</td>\n",
       "      <td>2018-06-26T02:59:43Z</td>\n",
       "      <td>2018-06-26T02:59:43Z</td>\n",
       "      <td>2118 Mt Zion Parkway</td>\n",
       "      <td>Fast Food Restaurant</td>\n",
       "      <td>Morrow</td>\n",
       "      <td>US</td>\n",
       "      <td>us/ga/morrow/2118mtzionparkway/1305117222</td>\n",
       "      <td>33.562738</td>\n",
       "      <td>-84.321143</td>\n",
       "      <td>Steak 'n Shake</td>\n",
       "      <td>30260</td>\n",
       "      <td>GA</td>\n",
       "      <td>https://foursquare.com/v/steak-n-shake/4bcf77a...</td>\n",
       "      <td>http://www.steaknshake.com/locations/23851-ste...</td>\n",
       "    </tr>\n",
       "  </tbody>\n",
       "</table>\n",
       "</div>"
      ],
      "text/plain": [
       "                     id             dateAdded           dateUpdated  \\\n",
       "0  AVwcmSyZIN2L1WUfmxyw  2015-10-19T23:47:58Z  2018-06-26T03:00:14Z   \n",
       "1  AVwcmSyZIN2L1WUfmxyw  2015-10-19T23:47:58Z  2018-06-26T03:00:14Z   \n",
       "2  AVwcopQoByjofQCxgfVa  2016-03-29T05:06:36Z  2018-06-26T02:59:52Z   \n",
       "3  AVweXN5RByjofQCxxilK  2017-01-03T07:46:11Z  2018-06-26T02:59:51Z   \n",
       "4  AWQ6MUvo3-Khe5l_j3SG  2018-06-26T02:59:43Z  2018-06-26T02:59:43Z   \n",
       "\n",
       "                address                                    categories  \\\n",
       "0      800 N Canal Blvd  American Restaurant and Fast Food Restaurant   \n",
       "1      800 N Canal Blvd                         Fast Food Restaurants   \n",
       "2   206 Wears Valley Rd                          Fast Food Restaurant   \n",
       "3          3652 Parkway                                     Fast Food   \n",
       "4  2118 Mt Zion Parkway                          Fast Food Restaurant   \n",
       "\n",
       "           city country                                           keys  \\\n",
       "0     Thibodaux      US       us/la/thibodaux/800ncanalblvd/1780593795   \n",
       "1     Thibodaux      US       us/la/thibodaux/800ncanalblvd/1780593795   \n",
       "2  Pigeon Forge      US  us/tn/pigeonforge/206wearsvalleyrd/-864103396   \n",
       "3  Pigeon Forge      US         us/tn/pigeonforge/3652parkway/93075755   \n",
       "4        Morrow      US      us/ga/morrow/2118mtzionparkway/1305117222   \n",
       "\n",
       "    latitude  longitude            name postalCode province  \\\n",
       "0  29.814697 -90.814742  SONIC Drive In      70301       LA   \n",
       "1  29.814697 -90.814742  SONIC Drive In      70301       LA   \n",
       "2  35.803788 -83.580553       Taco Bell      37863       TN   \n",
       "3  35.782339 -83.551408          Arby's      37863       TN   \n",
       "4  33.562738 -84.321143  Steak 'n Shake      30260       GA   \n",
       "\n",
       "                                          sourceURLs  \\\n",
       "0  https://foursquare.com/v/sonic-drive-in/4b7361...   \n",
       "1  https://foursquare.com/v/sonic-drive-in/4b7361...   \n",
       "2  https://www.yellowpages.com/pigeon-forge-tn/mi...   \n",
       "3  http://www.yellowbook.com/profile/arbys_163389...   \n",
       "4  https://foursquare.com/v/steak-n-shake/4bcf77a...   \n",
       "\n",
       "                                            websites  \n",
       "0  https://locations.sonicdrivein.com/la/thibodau...  \n",
       "1  https://locations.sonicdrivein.com/la/thibodau...  \n",
       "2  http://www.tacobell.com,https://locations.taco...  \n",
       "3  http://www.arbys.com,https://locations.arbys.c...  \n",
       "4  http://www.steaknshake.com/locations/23851-ste...  "
      ]
     },
     "execution_count": 20,
     "metadata": {},
     "output_type": "execute_result"
    }
   ],
   "source": [
    "ffood.head()"
   ]
  },
  {
   "cell_type": "code",
   "execution_count": 21,
   "metadata": {
    "hidden": true
   },
   "outputs": [
    {
     "name": "stdout",
     "output_type": "stream",
     "text": [
      "<class 'pandas.core.frame.DataFrame'>\n",
      "RangeIndex: 10000 entries, 0 to 9999\n",
      "Data columns (total 15 columns):\n",
      " #   Column       Non-Null Count  Dtype  \n",
      "---  ------       --------------  -----  \n",
      " 0   id           10000 non-null  object \n",
      " 1   dateAdded    10000 non-null  object \n",
      " 2   dateUpdated  10000 non-null  object \n",
      " 3   address      10000 non-null  object \n",
      " 4   categories   10000 non-null  object \n",
      " 5   city         10000 non-null  object \n",
      " 6   country      10000 non-null  object \n",
      " 7   keys         10000 non-null  object \n",
      " 8   latitude     10000 non-null  float64\n",
      " 9   longitude    10000 non-null  float64\n",
      " 10  name         10000 non-null  object \n",
      " 11  postalCode   10000 non-null  object \n",
      " 12  province     10000 non-null  object \n",
      " 13  sourceURLs   10000 non-null  object \n",
      " 14  websites     10000 non-null  object \n",
      "dtypes: float64(2), object(13)\n",
      "memory usage: 1.1+ MB\n"
     ]
    }
   ],
   "source": [
    "ffood.info()"
   ]
  },
  {
   "cell_type": "markdown",
   "metadata": {
    "heading_collapsed": true,
    "hidden": true
   },
   "source": [
    "### Question 1:"
   ]
  },
  {
   "cell_type": "markdown",
   "metadata": {
    "hidden": true
   },
   "source": [
    "How many different restaurant chains are represented in the data? Visualize the numbers for the restaurants with 50 or more instances."
   ]
  },
  {
   "cell_type": "code",
   "execution_count": 26,
   "metadata": {
    "hidden": true,
    "scrolled": true
   },
   "outputs": [
    {
     "data": {
      "text/plain": [
       "McDonald's                        1898\n",
       "Taco Bell                         1032\n",
       "Burger King                        833\n",
       "Subway                             776\n",
       "Arby's                             663\n",
       "                                  ... \n",
       "Arthur Treacher's Fish & Chips       1\n",
       "Henny Penny Family Restaurant        1\n",
       "Loving Hut                           1\n",
       "iSushi                               1\n",
       "Wienerschitzel                       1\n",
       "Name: name, Length: 571, dtype: int64"
      ]
     },
     "execution_count": 26,
     "metadata": {},
     "output_type": "execute_result"
    }
   ],
   "source": [
    "# Answer here\n",
    "ffood['name'].value_counts()"
   ]
  },
  {
   "cell_type": "code",
   "execution_count": 29,
   "metadata": {},
   "outputs": [],
   "source": [
    "counts = ffood['name'].value_counts()"
   ]
  },
  {
   "cell_type": "code",
   "execution_count": 32,
   "metadata": {},
   "outputs": [],
   "source": [
    "high = counts[ counts>=50]"
   ]
  },
  {
   "cell_type": "code",
   "execution_count": 33,
   "metadata": {},
   "outputs": [
    {
     "name": "stdout",
     "output_type": "stream",
     "text": [
      "<class 'pandas.core.series.Series'>\n"
     ]
    },
    {
     "data": {
      "text/plain": [
       "McDonald's         1898\n",
       "Taco Bell          1032\n",
       "Burger King         833\n",
       "Subway              776\n",
       "Arby's              663\n",
       "Wendy's             628\n",
       "Jack in the Box     330\n",
       "Pizza Hut           230\n",
       "Dairy Queen         218\n",
       "Domino's Pizza      215\n",
       "Chick-fil-A         206\n",
       "KFC                 162\n",
       "SONIC Drive In      125\n",
       "Jimmy John's        119\n",
       "Carl's Jr.          112\n",
       "Hardee's             99\n",
       "Krystal              82\n",
       "Panera Bread         76\n",
       "Culver's             71\n",
       "Dunkin' Donuts       71\n",
       "Del Taco             66\n",
       "Panda Express        61\n",
       "SUBWAY               57\n",
       "In-N-Out Burger      54\n",
       "Steak 'n Shake       54\n",
       "Taco John's          53\n",
       "Sonic Drive-In       50\n",
       "Name: name, dtype: int64"
      ]
     },
     "execution_count": 33,
     "metadata": {},
     "output_type": "execute_result"
    }
   ],
   "source": [
    "print(type(high))\n",
    "high"
   ]
  },
  {
   "cell_type": "code",
   "execution_count": 34,
   "metadata": {},
   "outputs": [
    {
     "data": {
      "text/plain": [
       "Index(['McDonald's', 'Taco Bell', 'Burger King', 'Subway', 'Arby's', 'Wendy's',\n",
       "       'Jack in the Box', 'Pizza Hut', 'Dairy Queen', 'Domino's Pizza',\n",
       "       'Chick-fil-A', 'KFC', 'SONIC Drive In', 'Jimmy John's', 'Carl's Jr.',\n",
       "       'Hardee's', 'Krystal', 'Panera Bread', 'Culver's', 'Dunkin' Donuts',\n",
       "       'Del Taco', 'Panda Express', 'SUBWAY', 'In-N-Out Burger',\n",
       "       'Steak 'n Shake', 'Taco John's', 'Sonic Drive-In'],\n",
       "      dtype='object')"
      ]
     },
     "execution_count": 34,
     "metadata": {},
     "output_type": "execute_result"
    }
   ],
   "source": [
    "high.index"
   ]
  },
  {
   "cell_type": "code",
   "execution_count": 36,
   "metadata": {},
   "outputs": [
    {
     "name": "stderr",
     "output_type": "stream",
     "text": [
      "<ipython-input-36-faa40a9174d1>:4: UserWarning: FixedFormatter should only be used together with FixedLocator\n",
      "  ax.set_xticklabels(labels=high.index, rotation=80);\n"
     ]
    },
    {
     "data": {
      "image/png": "[encoded data removed]",
      "text/plain": [
       "<Figure size 1080x432 with 1 Axes>"
      ]
     },
     "metadata": {},
     "output_type": "display_data"
    }
   ],
   "source": [
    "fig, ax = plt.subplots(figsize=(15,6))\n",
    "\n",
    "ax.bar(x=high.index, height=high)\n",
    "ax.set_xticklabels(labels=high.index, rotation=80);"
   ]
  },
  {
   "cell_type": "markdown",
   "metadata": {
    "heading_collapsed": true,
    "hidden": true
   },
   "source": [
    "### Question 2"
   ]
  },
  {
   "cell_type": "markdown",
   "metadata": {
    "hidden": true
   },
   "source": [
    "Visualize the locations of restaurants in Buffalo, NY."
   ]
  },
  {
   "cell_type": "code",
   "execution_count": 37,
   "metadata": {
    "scrolled": false
   },
   "outputs": [
    {
     "data": {
      "text/html": [
       "<div>\n",
       "<style scoped>\n",
       "    .dataframe tbody tr th:only-of-type {\n",
       "        vertical-align: middle;\n",
       "    }\n",
       "\n",
       "    .dataframe tbody tr th {\n",
       "        vertical-align: top;\n",
       "    }\n",
       "\n",
       "    .dataframe thead th {\n",
       "        text-align: right;\n",
       "    }\n",
       "</style>\n",
       "<table border=\"1\" class=\"dataframe\">\n",
       "  <thead>\n",
       "    <tr style=\"text-align: right;\">\n",
       "      <th></th>\n",
       "      <th>id</th>\n",
       "      <th>dateAdded</th>\n",
       "      <th>dateUpdated</th>\n",
       "      <th>address</th>\n",
       "      <th>categories</th>\n",
       "      <th>city</th>\n",
       "      <th>country</th>\n",
       "      <th>keys</th>\n",
       "      <th>latitude</th>\n",
       "      <th>longitude</th>\n",
       "      <th>name</th>\n",
       "      <th>postalCode</th>\n",
       "      <th>province</th>\n",
       "      <th>sourceURLs</th>\n",
       "      <th>websites</th>\n",
       "    </tr>\n",
       "  </thead>\n",
       "  <tbody>\n",
       "    <tr>\n",
       "      <th>0</th>\n",
       "      <td>AVwcmSyZIN2L1WUfmxyw</td>\n",
       "      <td>2015-10-19T23:47:58Z</td>\n",
       "      <td>2018-06-26T03:00:14Z</td>\n",
       "      <td>800 N Canal Blvd</td>\n",
       "      <td>American Restaurant and Fast Food Restaurant</td>\n",
       "      <td>Thibodaux</td>\n",
       "      <td>US</td>\n",
       "      <td>us/la/thibodaux/800ncanalblvd/1780593795</td>\n",
       "      <td>29.814697</td>\n",
       "      <td>-90.814742</td>\n",
       "      <td>SONIC Drive In</td>\n",
       "      <td>70301</td>\n",
       "      <td>LA</td>\n",
       "      <td>https://foursquare.com/v/sonic-drive-in/4b7361...</td>\n",
       "      <td>https://locations.sonicdrivein.com/la/thibodau...</td>\n",
       "    </tr>\n",
       "  </tbody>\n",
       "</table>\n",
       "</div>"
      ],
      "text/plain": [
       "                     id             dateAdded           dateUpdated  \\\n",
       "0  AVwcmSyZIN2L1WUfmxyw  2015-10-19T23:47:58Z  2018-06-26T03:00:14Z   \n",
       "\n",
       "            address                                    categories       city  \\\n",
       "0  800 N Canal Blvd  American Restaurant and Fast Food Restaurant  Thibodaux   \n",
       "\n",
       "  country                                      keys   latitude  longitude  \\\n",
       "0      US  us/la/thibodaux/800ncanalblvd/1780593795  29.814697 -90.814742   \n",
       "\n",
       "             name postalCode province  \\\n",
       "0  SONIC Drive In      70301       LA   \n",
       "\n",
       "                                          sourceURLs  \\\n",
       "0  https://foursquare.com/v/sonic-drive-in/4b7361...   \n",
       "\n",
       "                                            websites  \n",
       "0  https://locations.sonicdrivein.com/la/thibodau...  "
      ]
     },
     "execution_count": 37,
     "metadata": {},
     "output_type": "execute_result"
    }
   ],
   "source": [
    "ffood.head(1)"
   ]
  },
  {
   "cell_type": "code",
   "execution_count": 38,
   "metadata": {},
   "outputs": [],
   "source": [
    "buffalo = ffood[ ffood['city'] == 'Buffalo']"
   ]
  },
  {
   "cell_type": "code",
   "execution_count": 39,
   "metadata": {},
   "outputs": [
    {
     "data": {
      "text/html": [
       "<div>\n",
       "<style scoped>\n",
       "    .dataframe tbody tr th:only-of-type {\n",
       "        vertical-align: middle;\n",
       "    }\n",
       "\n",
       "    .dataframe tbody tr th {\n",
       "        vertical-align: top;\n",
       "    }\n",
       "\n",
       "    .dataframe thead th {\n",
       "        text-align: right;\n",
       "    }\n",
       "</style>\n",
       "<table border=\"1\" class=\"dataframe\">\n",
       "  <thead>\n",
       "    <tr style=\"text-align: right;\">\n",
       "      <th></th>\n",
       "      <th>id</th>\n",
       "      <th>dateAdded</th>\n",
       "      <th>dateUpdated</th>\n",
       "      <th>address</th>\n",
       "      <th>categories</th>\n",
       "      <th>city</th>\n",
       "      <th>country</th>\n",
       "      <th>keys</th>\n",
       "      <th>latitude</th>\n",
       "      <th>longitude</th>\n",
       "      <th>name</th>\n",
       "      <th>postalCode</th>\n",
       "      <th>province</th>\n",
       "      <th>sourceURLs</th>\n",
       "      <th>websites</th>\n",
       "    </tr>\n",
       "  </thead>\n",
       "  <tbody>\n",
       "    <tr>\n",
       "      <th>35</th>\n",
       "      <td>AVzA-ZBX3D1zeR_xBC5-</td>\n",
       "      <td>2017-06-19T15:29:59Z</td>\n",
       "      <td>2018-06-25T09:29:40Z</td>\n",
       "      <td>1028 Mckinley Pkwy</td>\n",
       "      <td>Fast Food Restaurants</td>\n",
       "      <td>Buffalo</td>\n",
       "      <td>US</td>\n",
       "      <td>us/ny/buffalo/1028mckinleypkwy/-1161002137</td>\n",
       "      <td>42.857899</td>\n",
       "      <td>-78.825089</td>\n",
       "      <td>McDonald's</td>\n",
       "      <td>14220</td>\n",
       "      <td>NY</td>\n",
       "      <td>https://foursquare.com/v/mcdonalds/4bde2ddce75...</td>\n",
       "      <td>http://www.mcdonalds.com/?cid=RF:YXT_FM:TP::Ye...</td>\n",
       "    </tr>\n",
       "    <tr>\n",
       "      <th>2005</th>\n",
       "      <td>AVzA-Y9oFcQ3k02bBaXi</td>\n",
       "      <td>2017-06-19T15:29:59Z</td>\n",
       "      <td>2018-06-17T23:19:47Z</td>\n",
       "      <td>3120 Niagara Falls Blvd</td>\n",
       "      <td>Fast Food Restaurant</td>\n",
       "      <td>Buffalo</td>\n",
       "      <td>US</td>\n",
       "      <td>us/ny/buffalo/3120niagarafallsblvd/-1161002137</td>\n",
       "      <td>43.039404</td>\n",
       "      <td>-78.824138</td>\n",
       "      <td>McDonald's</td>\n",
       "      <td>14228</td>\n",
       "      <td>NY</td>\n",
       "      <td>https://www.allmenus.com/ny/buffalo/189056-mcd...</td>\n",
       "      <td>http://mcdonalds.com</td>\n",
       "    </tr>\n",
       "    <tr>\n",
       "      <th>2010</th>\n",
       "      <td>AVwcllbnkufWRAb5w06u</td>\n",
       "      <td>2015-10-20T00:55:54Z</td>\n",
       "      <td>2018-06-17T23:19:43Z</td>\n",
       "      <td>262 Grider St</td>\n",
       "      <td>Fast Food</td>\n",
       "      <td>Buffalo</td>\n",
       "      <td>US</td>\n",
       "      <td>us/ny/buffalo/262griderst/-1161002137</td>\n",
       "      <td>42.921505</td>\n",
       "      <td>-78.829117</td>\n",
       "      <td>McDonald's</td>\n",
       "      <td>14215</td>\n",
       "      <td>NY</td>\n",
       "      <td>https://www.allmenus.com/ny/buffalo/189021-mcd...</td>\n",
       "      <td>http://www.mcdonalds.com/?cid=RF:YXT_FM:TP::Ye...</td>\n",
       "    </tr>\n",
       "    <tr>\n",
       "      <th>2015</th>\n",
       "      <td>AVwdiyrbIN2L1WUfw2ls</td>\n",
       "      <td>2015-10-23T02:54:10Z</td>\n",
       "      <td>2018-06-17T23:19:40Z</td>\n",
       "      <td>241 W Ferry St</td>\n",
       "      <td>Fast Food Restaurant</td>\n",
       "      <td>Buffalo</td>\n",
       "      <td>US</td>\n",
       "      <td>us/ny/buffalo/241wferryst/-1161002137</td>\n",
       "      <td>42.915230</td>\n",
       "      <td>-78.892305</td>\n",
       "      <td>McDonald's</td>\n",
       "      <td>14213</td>\n",
       "      <td>NY</td>\n",
       "      <td>https://www.allmenus.com/ny/buffalo/188996-mcd...</td>\n",
       "      <td>http://www.mcdonalds.com/?cid=RF:YXT_FM:TP::Ye...</td>\n",
       "    </tr>\n",
       "    <tr>\n",
       "      <th>2016</th>\n",
       "      <td>AVwdiyrbIN2L1WUfw2ls</td>\n",
       "      <td>2015-10-23T02:54:10Z</td>\n",
       "      <td>2018-06-17T23:19:40Z</td>\n",
       "      <td>241 W Ferry St</td>\n",
       "      <td>Fast Food</td>\n",
       "      <td>Buffalo</td>\n",
       "      <td>US</td>\n",
       "      <td>us/ny/buffalo/241wferryst/-1161002137</td>\n",
       "      <td>42.915230</td>\n",
       "      <td>-78.892305</td>\n",
       "      <td>McDonald's</td>\n",
       "      <td>14213</td>\n",
       "      <td>NY</td>\n",
       "      <td>https://www.allmenus.com/ny/buffalo/188996-mcd...</td>\n",
       "      <td>http://www.mcdonalds.com/?cid=RF:YXT_FM:TP::Ye...</td>\n",
       "    </tr>\n",
       "  </tbody>\n",
       "</table>\n",
       "</div>"
      ],
      "text/plain": [
       "                        id             dateAdded           dateUpdated  \\\n",
       "35    AVzA-ZBX3D1zeR_xBC5-  2017-06-19T15:29:59Z  2018-06-25T09:29:40Z   \n",
       "2005  AVzA-Y9oFcQ3k02bBaXi  2017-06-19T15:29:59Z  2018-06-17T23:19:47Z   \n",
       "2010  AVwcllbnkufWRAb5w06u  2015-10-20T00:55:54Z  2018-06-17T23:19:43Z   \n",
       "2015  AVwdiyrbIN2L1WUfw2ls  2015-10-23T02:54:10Z  2018-06-17T23:19:40Z   \n",
       "2016  AVwdiyrbIN2L1WUfw2ls  2015-10-23T02:54:10Z  2018-06-17T23:19:40Z   \n",
       "\n",
       "                      address             categories     city country  \\\n",
       "35         1028 Mckinley Pkwy  Fast Food Restaurants  Buffalo      US   \n",
       "2005  3120 Niagara Falls Blvd   Fast Food Restaurant  Buffalo      US   \n",
       "2010            262 Grider St              Fast Food  Buffalo      US   \n",
       "2015           241 W Ferry St   Fast Food Restaurant  Buffalo      US   \n",
       "2016           241 W Ferry St              Fast Food  Buffalo      US   \n",
       "\n",
       "                                                keys   latitude  longitude  \\\n",
       "35        us/ny/buffalo/1028mckinleypkwy/-1161002137  42.857899 -78.825089   \n",
       "2005  us/ny/buffalo/3120niagarafallsblvd/-1161002137  43.039404 -78.824138   \n",
       "2010           us/ny/buffalo/262griderst/-1161002137  42.921505 -78.829117   \n",
       "2015           us/ny/buffalo/241wferryst/-1161002137  42.915230 -78.892305   \n",
       "2016           us/ny/buffalo/241wferryst/-1161002137  42.915230 -78.892305   \n",
       "\n",
       "            name postalCode province  \\\n",
       "35    McDonald's      14220       NY   \n",
       "2005  McDonald's      14228       NY   \n",
       "2010  McDonald's      14215       NY   \n",
       "2015  McDonald's      14213       NY   \n",
       "2016  McDonald's      14213       NY   \n",
       "\n",
       "                                             sourceURLs  \\\n",
       "35    https://foursquare.com/v/mcdonalds/4bde2ddce75...   \n",
       "2005  https://www.allmenus.com/ny/buffalo/189056-mcd...   \n",
       "2010  https://www.allmenus.com/ny/buffalo/189021-mcd...   \n",
       "2015  https://www.allmenus.com/ny/buffalo/188996-mcd...   \n",
       "2016  https://www.allmenus.com/ny/buffalo/188996-mcd...   \n",
       "\n",
       "                                               websites  \n",
       "35    http://www.mcdonalds.com/?cid=RF:YXT_FM:TP::Ye...  \n",
       "2005                               http://mcdonalds.com  \n",
       "2010  http://www.mcdonalds.com/?cid=RF:YXT_FM:TP::Ye...  \n",
       "2015  http://www.mcdonalds.com/?cid=RF:YXT_FM:TP::Ye...  \n",
       "2016  http://www.mcdonalds.com/?cid=RF:YXT_FM:TP::Ye...  "
      ]
     },
     "execution_count": 39,
     "metadata": {},
     "output_type": "execute_result"
    }
   ],
   "source": [
    "buffalo.head()"
   ]
  },
  {
   "cell_type": "code",
   "execution_count": 43,
   "metadata": {
    "hidden": true
   },
   "outputs": [
    {
     "data": {
      "text/plain": [
       "<AxesSubplot:xlabel='latitude', ylabel='longitude'>"
      ]
     },
     "execution_count": 43,
     "metadata": {},
     "output_type": "execute_result"
    },
    {
     "data": {
      "image/png": "[encoded data removed]",
      "text/plain": [
       "<Figure size 576x576 with 1 Axes>"
      ]
     },
     "metadata": {},
     "output_type": "display_data"
    }
   ],
   "source": [
    "# Your Answer Here\n",
    "fig, ax = plt.subplots(figsize=(8,8))\n",
    "\n",
    "sns.scatterplot(x='latitude',\n",
    "               y='longitude',\n",
    "                hue='name',\n",
    "               data=buffalo)"
   ]
  },
  {
   "cell_type": "markdown",
   "metadata": {
    "heading_collapsed": true,
    "hidden": true
   },
   "source": [
    "### Question 3 (Exercise!):"
   ]
  },
  {
   "cell_type": "markdown",
   "metadata": {
    "hidden": true
   },
   "source": [
    "In this dataset, how many Taco Bell restaurants are there in Alaska, and in which cities are they?"
   ]
  },
  {
   "cell_type": "code",
   "execution_count": 47,
   "metadata": {
    "hidden": true,
    "scrolled": true
   },
   "outputs": [
    {
     "data": {
      "text/html": [
       "<div>\n",
       "<style scoped>\n",
       "    .dataframe tbody tr th:only-of-type {\n",
       "        vertical-align: middle;\n",
       "    }\n",
       "\n",
       "    .dataframe tbody tr th {\n",
       "        vertical-align: top;\n",
       "    }\n",
       "\n",
       "    .dataframe thead th {\n",
       "        text-align: right;\n",
       "    }\n",
       "</style>\n",
       "<table border=\"1\" class=\"dataframe\">\n",
       "  <thead>\n",
       "    <tr style=\"text-align: right;\">\n",
       "      <th></th>\n",
       "      <th>id</th>\n",
       "      <th>dateAdded</th>\n",
       "      <th>dateUpdated</th>\n",
       "      <th>address</th>\n",
       "      <th>categories</th>\n",
       "      <th>city</th>\n",
       "      <th>country</th>\n",
       "      <th>keys</th>\n",
       "      <th>latitude</th>\n",
       "      <th>longitude</th>\n",
       "      <th>name</th>\n",
       "      <th>postalCode</th>\n",
       "      <th>province</th>\n",
       "      <th>sourceURLs</th>\n",
       "      <th>websites</th>\n",
       "    </tr>\n",
       "  </thead>\n",
       "  <tbody>\n",
       "    <tr>\n",
       "      <th>8497</th>\n",
       "      <td>AVwc9pgFIN2L1WUfqyrq</td>\n",
       "      <td>2015-12-17T19:04:28Z</td>\n",
       "      <td>2018-04-30T09:35:14Z</td>\n",
       "      <td>1453 University Ave S</td>\n",
       "      <td>Fast Food</td>\n",
       "      <td>Fairbanks</td>\n",
       "      <td>US</td>\n",
       "      <td>us/ak/fairbanks/1453universityaves/-864103396</td>\n",
       "      <td>64.835505</td>\n",
       "      <td>-147.81325</td>\n",
       "      <td>Taco Bell</td>\n",
       "      <td>99709</td>\n",
       "      <td>AK</td>\n",
       "      <td>http://www.citysearch.com/profile/1335940/fair...</td>\n",
       "      <td>http://www.tacobell.com,https://locations.taco...</td>\n",
       "    </tr>\n",
       "    <tr>\n",
       "      <th>8498</th>\n",
       "      <td>AVwc9pgFIN2L1WUfqyrq</td>\n",
       "      <td>2015-12-17T19:04:28Z</td>\n",
       "      <td>2018-04-30T09:35:14Z</td>\n",
       "      <td>1453 University Ave S</td>\n",
       "      <td>Fast Food Restaurant</td>\n",
       "      <td>Fairbanks</td>\n",
       "      <td>US</td>\n",
       "      <td>us/ak/fairbanks/1453universityaves/-864103396</td>\n",
       "      <td>64.835505</td>\n",
       "      <td>-147.81325</td>\n",
       "      <td>Taco Bell</td>\n",
       "      <td>99709</td>\n",
       "      <td>AK</td>\n",
       "      <td>http://www.citysearch.com/profile/1335940/fair...</td>\n",
       "      <td>http://www.tacobell.com,https://locations.taco...</td>\n",
       "    </tr>\n",
       "    <tr>\n",
       "      <th>9789</th>\n",
       "      <td>AVzA-GFMFcQ3k02bBaLW</td>\n",
       "      <td>2017-06-19T15:28:42Z</td>\n",
       "      <td>2018-04-10T06:49:29Z</td>\n",
       "      <td>9001 Jewel Lake Rd Ste 12</td>\n",
       "      <td>Fast Food Restaurant</td>\n",
       "      <td>Anchorage</td>\n",
       "      <td>US</td>\n",
       "      <td>us/ak/anchorage/9001jewellakerdste12/-864103396</td>\n",
       "      <td>61.138300</td>\n",
       "      <td>-149.95040</td>\n",
       "      <td>Taco Bell</td>\n",
       "      <td>99502</td>\n",
       "      <td>AK</td>\n",
       "      <td>https://foursquare.com/v/taco-bell/4bc23f7af82...</td>\n",
       "      <td>http://www.tacobell.com,https://locations.taco...</td>\n",
       "    </tr>\n",
       "  </tbody>\n",
       "</table>\n",
       "</div>"
      ],
      "text/plain": [
       "                        id             dateAdded           dateUpdated  \\\n",
       "8497  AVwc9pgFIN2L1WUfqyrq  2015-12-17T19:04:28Z  2018-04-30T09:35:14Z   \n",
       "8498  AVwc9pgFIN2L1WUfqyrq  2015-12-17T19:04:28Z  2018-04-30T09:35:14Z   \n",
       "9789  AVzA-GFMFcQ3k02bBaLW  2017-06-19T15:28:42Z  2018-04-10T06:49:29Z   \n",
       "\n",
       "                        address            categories       city country  \\\n",
       "8497      1453 University Ave S             Fast Food  Fairbanks      US   \n",
       "8498      1453 University Ave S  Fast Food Restaurant  Fairbanks      US   \n",
       "9789  9001 Jewel Lake Rd Ste 12  Fast Food Restaurant  Anchorage      US   \n",
       "\n",
       "                                                 keys   latitude  longitude  \\\n",
       "8497    us/ak/fairbanks/1453universityaves/-864103396  64.835505 -147.81325   \n",
       "8498    us/ak/fairbanks/1453universityaves/-864103396  64.835505 -147.81325   \n",
       "9789  us/ak/anchorage/9001jewellakerdste12/-864103396  61.138300 -149.95040   \n",
       "\n",
       "           name postalCode province  \\\n",
       "8497  Taco Bell      99709       AK   \n",
       "8498  Taco Bell      99709       AK   \n",
       "9789  Taco Bell      99502       AK   \n",
       "\n",
       "                                             sourceURLs  \\\n",
       "8497  http://www.citysearch.com/profile/1335940/fair...   \n",
       "8498  http://www.citysearch.com/profile/1335940/fair...   \n",
       "9789  https://foursquare.com/v/taco-bell/4bc23f7af82...   \n",
       "\n",
       "                                               websites  \n",
       "8497  http://www.tacobell.com,https://locations.taco...  \n",
       "8498  http://www.tacobell.com,https://locations.taco...  \n",
       "9789  http://www.tacobell.com,https://locations.taco...  "
      ]
     },
     "execution_count": 47,
     "metadata": {},
     "output_type": "execute_result"
    }
   ],
   "source": [
    "# Answer!\n",
    "tb_ak = ffood[ (ffood['province'] == 'AK') & (ffood['name'] == 'Taco Bell')]\n",
    "tb_ak"
   ]
  },
  {
   "cell_type": "code",
   "execution_count": 48,
   "metadata": {},
   "outputs": [
    {
     "data": {
      "text/plain": [
       "8497    Fairbanks\n",
       "8498    Fairbanks\n",
       "9789    Anchorage\n",
       "Name: city, dtype: object"
      ]
     },
     "execution_count": 48,
     "metadata": {},
     "output_type": "execute_result"
    }
   ],
   "source": [
    "tb_ak['city']"
   ]
  },
  {
   "cell_type": "markdown",
   "metadata": {
    "heading_collapsed": true,
    "hidden": true
   },
   "source": [
    "### Question 4 (Exercise!):"
   ]
  },
  {
   "cell_type": "markdown",
   "metadata": {
    "hidden": true
   },
   "source": [
    "Convert the ZIP Codes to (five-digit) integers."
   ]
  },
  {
   "cell_type": "code",
   "execution_count": 55,
   "metadata": {
    "hidden": true
   },
   "outputs": [],
   "source": [
    "# Your Code!\n",
    "\n",
    "ffood['zip5'] = ffood['postalCode']\n"
   ]
  },
  {
   "cell_type": "code",
   "execution_count": 57,
   "metadata": {},
   "outputs": [
    {
     "data": {
      "text/plain": [
       "array(['70301', '70301', '37863', ..., '27284', '27893', '28337'],\n",
       "      dtype=object)"
      ]
     },
     "execution_count": 57,
     "metadata": {},
     "output_type": "execute_result"
    }
   ],
   "source": [
    "ffood['postalCode'].values"
   ]
  },
  {
   "cell_type": "code",
   "execution_count": 58,
   "metadata": {},
   "outputs": [],
   "source": [
    "zip5 = [ x[:5] for x in ffood['postalCode'].values]"
   ]
  },
  {
   "cell_type": "code",
   "execution_count": 64,
   "metadata": {},
   "outputs": [],
   "source": [
    "ffood['zip5'] = zip5"
   ]
  },
  {
   "cell_type": "code",
   "execution_count": 65,
   "metadata": {
    "scrolled": true
   },
   "outputs": [
    {
     "data": {
      "text/html": [
       "<div>\n",
       "<style scoped>\n",
       "    .dataframe tbody tr th:only-of-type {\n",
       "        vertical-align: middle;\n",
       "    }\n",
       "\n",
       "    .dataframe tbody tr th {\n",
       "        vertical-align: top;\n",
       "    }\n",
       "\n",
       "    .dataframe thead th {\n",
       "        text-align: right;\n",
       "    }\n",
       "</style>\n",
       "<table border=\"1\" class=\"dataframe\">\n",
       "  <thead>\n",
       "    <tr style=\"text-align: right;\">\n",
       "      <th></th>\n",
       "      <th>id</th>\n",
       "      <th>dateAdded</th>\n",
       "      <th>dateUpdated</th>\n",
       "      <th>address</th>\n",
       "      <th>categories</th>\n",
       "      <th>city</th>\n",
       "      <th>country</th>\n",
       "      <th>keys</th>\n",
       "      <th>latitude</th>\n",
       "      <th>longitude</th>\n",
       "      <th>name</th>\n",
       "      <th>postalCode</th>\n",
       "      <th>province</th>\n",
       "      <th>sourceURLs</th>\n",
       "      <th>websites</th>\n",
       "      <th>zip5</th>\n",
       "      <th>Zip5</th>\n",
       "    </tr>\n",
       "  </thead>\n",
       "  <tbody>\n",
       "    <tr>\n",
       "      <th>0</th>\n",
       "      <td>AVwcmSyZIN2L1WUfmxyw</td>\n",
       "      <td>2015-10-19T23:47:58Z</td>\n",
       "      <td>2018-06-26T03:00:14Z</td>\n",
       "      <td>800 N Canal Blvd</td>\n",
       "      <td>American Restaurant and Fast Food Restaurant</td>\n",
       "      <td>Thibodaux</td>\n",
       "      <td>US</td>\n",
       "      <td>us/la/thibodaux/800ncanalblvd/1780593795</td>\n",
       "      <td>29.814697</td>\n",
       "      <td>-90.814742</td>\n",
       "      <td>SONIC Drive In</td>\n",
       "      <td>70301</td>\n",
       "      <td>LA</td>\n",
       "      <td>https://foursquare.com/v/sonic-drive-in/4b7361...</td>\n",
       "      <td>https://locations.sonicdrivein.com/la/thibodau...</td>\n",
       "      <td>70301</td>\n",
       "      <td>70301</td>\n",
       "    </tr>\n",
       "    <tr>\n",
       "      <th>1</th>\n",
       "      <td>AVwcmSyZIN2L1WUfmxyw</td>\n",
       "      <td>2015-10-19T23:47:58Z</td>\n",
       "      <td>2018-06-26T03:00:14Z</td>\n",
       "      <td>800 N Canal Blvd</td>\n",
       "      <td>Fast Food Restaurants</td>\n",
       "      <td>Thibodaux</td>\n",
       "      <td>US</td>\n",
       "      <td>us/la/thibodaux/800ncanalblvd/1780593795</td>\n",
       "      <td>29.814697</td>\n",
       "      <td>-90.814742</td>\n",
       "      <td>SONIC Drive In</td>\n",
       "      <td>70301</td>\n",
       "      <td>LA</td>\n",
       "      <td>https://foursquare.com/v/sonic-drive-in/4b7361...</td>\n",
       "      <td>https://locations.sonicdrivein.com/la/thibodau...</td>\n",
       "      <td>70301</td>\n",
       "      <td>70301</td>\n",
       "    </tr>\n",
       "    <tr>\n",
       "      <th>2</th>\n",
       "      <td>AVwcopQoByjofQCxgfVa</td>\n",
       "      <td>2016-03-29T05:06:36Z</td>\n",
       "      <td>2018-06-26T02:59:52Z</td>\n",
       "      <td>206 Wears Valley Rd</td>\n",
       "      <td>Fast Food Restaurant</td>\n",
       "      <td>Pigeon Forge</td>\n",
       "      <td>US</td>\n",
       "      <td>us/tn/pigeonforge/206wearsvalleyrd/-864103396</td>\n",
       "      <td>35.803788</td>\n",
       "      <td>-83.580553</td>\n",
       "      <td>Taco Bell</td>\n",
       "      <td>37863</td>\n",
       "      <td>TN</td>\n",
       "      <td>https://www.yellowpages.com/pigeon-forge-tn/mi...</td>\n",
       "      <td>http://www.tacobell.com,https://locations.taco...</td>\n",
       "      <td>37863</td>\n",
       "      <td>37863</td>\n",
       "    </tr>\n",
       "    <tr>\n",
       "      <th>3</th>\n",
       "      <td>AVweXN5RByjofQCxxilK</td>\n",
       "      <td>2017-01-03T07:46:11Z</td>\n",
       "      <td>2018-06-26T02:59:51Z</td>\n",
       "      <td>3652 Parkway</td>\n",
       "      <td>Fast Food</td>\n",
       "      <td>Pigeon Forge</td>\n",
       "      <td>US</td>\n",
       "      <td>us/tn/pigeonforge/3652parkway/93075755</td>\n",
       "      <td>35.782339</td>\n",
       "      <td>-83.551408</td>\n",
       "      <td>Arby's</td>\n",
       "      <td>37863</td>\n",
       "      <td>TN</td>\n",
       "      <td>http://www.yellowbook.com/profile/arbys_163389...</td>\n",
       "      <td>http://www.arbys.com,https://locations.arbys.c...</td>\n",
       "      <td>37863</td>\n",
       "      <td>37863</td>\n",
       "    </tr>\n",
       "    <tr>\n",
       "      <th>4</th>\n",
       "      <td>AWQ6MUvo3-Khe5l_j3SG</td>\n",
       "      <td>2018-06-26T02:59:43Z</td>\n",
       "      <td>2018-06-26T02:59:43Z</td>\n",
       "      <td>2118 Mt Zion Parkway</td>\n",
       "      <td>Fast Food Restaurant</td>\n",
       "      <td>Morrow</td>\n",
       "      <td>US</td>\n",
       "      <td>us/ga/morrow/2118mtzionparkway/1305117222</td>\n",
       "      <td>33.562738</td>\n",
       "      <td>-84.321143</td>\n",
       "      <td>Steak 'n Shake</td>\n",
       "      <td>30260</td>\n",
       "      <td>GA</td>\n",
       "      <td>https://foursquare.com/v/steak-n-shake/4bcf77a...</td>\n",
       "      <td>http://www.steaknshake.com/locations/23851-ste...</td>\n",
       "      <td>30260</td>\n",
       "      <td>30260</td>\n",
       "    </tr>\n",
       "  </tbody>\n",
       "</table>\n",
       "</div>"
      ],
      "text/plain": [
       "                     id             dateAdded           dateUpdated  \\\n",
       "0  AVwcmSyZIN2L1WUfmxyw  2015-10-19T23:47:58Z  2018-06-26T03:00:14Z   \n",
       "1  AVwcmSyZIN2L1WUfmxyw  2015-10-19T23:47:58Z  2018-06-26T03:00:14Z   \n",
       "2  AVwcopQoByjofQCxgfVa  2016-03-29T05:06:36Z  2018-06-26T02:59:52Z   \n",
       "3  AVweXN5RByjofQCxxilK  2017-01-03T07:46:11Z  2018-06-26T02:59:51Z   \n",
       "4  AWQ6MUvo3-Khe5l_j3SG  2018-06-26T02:59:43Z  2018-06-26T02:59:43Z   \n",
       "\n",
       "                address                                    categories  \\\n",
       "0      800 N Canal Blvd  American Restaurant and Fast Food Restaurant   \n",
       "1      800 N Canal Blvd                         Fast Food Restaurants   \n",
       "2   206 Wears Valley Rd                          Fast Food Restaurant   \n",
       "3          3652 Parkway                                     Fast Food   \n",
       "4  2118 Mt Zion Parkway                          Fast Food Restaurant   \n",
       "\n",
       "           city country                                           keys  \\\n",
       "0     Thibodaux      US       us/la/thibodaux/800ncanalblvd/1780593795   \n",
       "1     Thibodaux      US       us/la/thibodaux/800ncanalblvd/1780593795   \n",
       "2  Pigeon Forge      US  us/tn/pigeonforge/206wearsvalleyrd/-864103396   \n",
       "3  Pigeon Forge      US         us/tn/pigeonforge/3652parkway/93075755   \n",
       "4        Morrow      US      us/ga/morrow/2118mtzionparkway/1305117222   \n",
       "\n",
       "    latitude  longitude            name postalCode province  \\\n",
       "0  29.814697 -90.814742  SONIC Drive In      70301       LA   \n",
       "1  29.814697 -90.814742  SONIC Drive In      70301       LA   \n",
       "2  35.803788 -83.580553       Taco Bell      37863       TN   \n",
       "3  35.782339 -83.551408          Arby's      37863       TN   \n",
       "4  33.562738 -84.321143  Steak 'n Shake      30260       GA   \n",
       "\n",
       "                                          sourceURLs  \\\n",
       "0  https://foursquare.com/v/sonic-drive-in/4b7361...   \n",
       "1  https://foursquare.com/v/sonic-drive-in/4b7361...   \n",
       "2  https://www.yellowpages.com/pigeon-forge-tn/mi...   \n",
       "3  http://www.yellowbook.com/profile/arbys_163389...   \n",
       "4  https://foursquare.com/v/steak-n-shake/4bcf77a...   \n",
       "\n",
       "                                            websites   zip5   Zip5  \n",
       "0  https://locations.sonicdrivein.com/la/thibodau...  70301  70301  \n",
       "1  https://locations.sonicdrivein.com/la/thibodau...  70301  70301  \n",
       "2  http://www.tacobell.com,https://locations.taco...  37863  37863  \n",
       "3  http://www.arbys.com,https://locations.arbys.c...  37863  37863  \n",
       "4  http://www.steaknshake.com/locations/23851-ste...  30260  30260  "
      ]
     },
     "execution_count": 65,
     "metadata": {},
     "output_type": "execute_result"
    }
   ],
   "source": [
    "ffood.head()"
   ]
  },
  {
   "cell_type": "code",
   "execution_count": 68,
   "metadata": {
    "scrolled": true
   },
   "outputs": [
    {
     "data": {
      "text/plain": [
       "0       70301\n",
       "1       70301\n",
       "2       37863\n",
       "3       37863\n",
       "4       30260\n",
       "        ...  \n",
       "9995    27106\n",
       "9996    27107\n",
       "9997    27284\n",
       "9998    27893\n",
       "9999    28337\n",
       "Name: zip5, Length: 10000, dtype: int64"
      ]
     },
     "execution_count": 68,
     "metadata": {},
     "output_type": "execute_result"
    }
   ],
   "source": [
    "ffood['zip5'].astype(int)"
   ]
  },
  {
   "cell_type": "code",
   "execution_count": 76,
   "metadata": {},
   "outputs": [],
   "source": [
    "ffood['zip5-2'] = ffood['postalCode'].str[:5]"
   ]
  },
  {
   "cell_type": "code",
   "execution_count": 81,
   "metadata": {},
   "outputs": [],
   "source": [
    "ffood['zip5-2'] = ffood['zip5-2'].astype(int)"
   ]
  },
  {
   "cell_type": "code",
   "execution_count": 79,
   "metadata": {
    "scrolled": true
   },
   "outputs": [
    {
     "data": {
      "text/html": [
       "<div>\n",
       "<style scoped>\n",
       "    .dataframe tbody tr th:only-of-type {\n",
       "        vertical-align: middle;\n",
       "    }\n",
       "\n",
       "    .dataframe tbody tr th {\n",
       "        vertical-align: top;\n",
       "    }\n",
       "\n",
       "    .dataframe thead th {\n",
       "        text-align: right;\n",
       "    }\n",
       "</style>\n",
       "<table border=\"1\" class=\"dataframe\">\n",
       "  <thead>\n",
       "    <tr style=\"text-align: right;\">\n",
       "      <th></th>\n",
       "      <th>id</th>\n",
       "      <th>dateAdded</th>\n",
       "      <th>dateUpdated</th>\n",
       "      <th>address</th>\n",
       "      <th>categories</th>\n",
       "      <th>city</th>\n",
       "      <th>country</th>\n",
       "      <th>keys</th>\n",
       "      <th>latitude</th>\n",
       "      <th>longitude</th>\n",
       "      <th>name</th>\n",
       "      <th>postalCode</th>\n",
       "      <th>province</th>\n",
       "      <th>sourceURLs</th>\n",
       "      <th>websites</th>\n",
       "      <th>zip5-2</th>\n",
       "    </tr>\n",
       "  </thead>\n",
       "  <tbody>\n",
       "    <tr>\n",
       "      <th>0</th>\n",
       "      <td>AVwcmSyZIN2L1WUfmxyw</td>\n",
       "      <td>2015-10-19T23:47:58Z</td>\n",
       "      <td>2018-06-26T03:00:14Z</td>\n",
       "      <td>800 N Canal Blvd</td>\n",
       "      <td>American Restaurant and Fast Food Restaurant</td>\n",
       "      <td>Thibodaux</td>\n",
       "      <td>US</td>\n",
       "      <td>us/la/thibodaux/800ncanalblvd/1780593795</td>\n",
       "      <td>29.814697</td>\n",
       "      <td>-90.814742</td>\n",
       "      <td>SONIC Drive In</td>\n",
       "      <td>70301</td>\n",
       "      <td>LA</td>\n",
       "      <td>https://foursquare.com/v/sonic-drive-in/4b7361...</td>\n",
       "      <td>https://locations.sonicdrivein.com/la/thibodau...</td>\n",
       "      <td>70301</td>\n",
       "    </tr>\n",
       "    <tr>\n",
       "      <th>1</th>\n",
       "      <td>AVwcmSyZIN2L1WUfmxyw</td>\n",
       "      <td>2015-10-19T23:47:58Z</td>\n",
       "      <td>2018-06-26T03:00:14Z</td>\n",
       "      <td>800 N Canal Blvd</td>\n",
       "      <td>Fast Food Restaurants</td>\n",
       "      <td>Thibodaux</td>\n",
       "      <td>US</td>\n",
       "      <td>us/la/thibodaux/800ncanalblvd/1780593795</td>\n",
       "      <td>29.814697</td>\n",
       "      <td>-90.814742</td>\n",
       "      <td>SONIC Drive In</td>\n",
       "      <td>70301</td>\n",
       "      <td>LA</td>\n",
       "      <td>https://foursquare.com/v/sonic-drive-in/4b7361...</td>\n",
       "      <td>https://locations.sonicdrivein.com/la/thibodau...</td>\n",
       "      <td>70301</td>\n",
       "    </tr>\n",
       "    <tr>\n",
       "      <th>2</th>\n",
       "      <td>AVwcopQoByjofQCxgfVa</td>\n",
       "      <td>2016-03-29T05:06:36Z</td>\n",
       "      <td>2018-06-26T02:59:52Z</td>\n",
       "      <td>206 Wears Valley Rd</td>\n",
       "      <td>Fast Food Restaurant</td>\n",
       "      <td>Pigeon Forge</td>\n",
       "      <td>US</td>\n",
       "      <td>us/tn/pigeonforge/206wearsvalleyrd/-864103396</td>\n",
       "      <td>35.803788</td>\n",
       "      <td>-83.580553</td>\n",
       "      <td>Taco Bell</td>\n",
       "      <td>37863</td>\n",
       "      <td>TN</td>\n",
       "      <td>https://www.yellowpages.com/pigeon-forge-tn/mi...</td>\n",
       "      <td>http://www.tacobell.com,https://locations.taco...</td>\n",
       "      <td>37863</td>\n",
       "    </tr>\n",
       "    <tr>\n",
       "      <th>3</th>\n",
       "      <td>AVweXN5RByjofQCxxilK</td>\n",
       "      <td>2017-01-03T07:46:11Z</td>\n",
       "      <td>2018-06-26T02:59:51Z</td>\n",
       "      <td>3652 Parkway</td>\n",
       "      <td>Fast Food</td>\n",
       "      <td>Pigeon Forge</td>\n",
       "      <td>US</td>\n",
       "      <td>us/tn/pigeonforge/3652parkway/93075755</td>\n",
       "      <td>35.782339</td>\n",
       "      <td>-83.551408</td>\n",
       "      <td>Arby's</td>\n",
       "      <td>37863</td>\n",
       "      <td>TN</td>\n",
       "      <td>http://www.yellowbook.com/profile/arbys_163389...</td>\n",
       "      <td>http://www.arbys.com,https://locations.arbys.c...</td>\n",
       "      <td>37863</td>\n",
       "    </tr>\n",
       "    <tr>\n",
       "      <th>4</th>\n",
       "      <td>AWQ6MUvo3-Khe5l_j3SG</td>\n",
       "      <td>2018-06-26T02:59:43Z</td>\n",
       "      <td>2018-06-26T02:59:43Z</td>\n",
       "      <td>2118 Mt Zion Parkway</td>\n",
       "      <td>Fast Food Restaurant</td>\n",
       "      <td>Morrow</td>\n",
       "      <td>US</td>\n",
       "      <td>us/ga/morrow/2118mtzionparkway/1305117222</td>\n",
       "      <td>33.562738</td>\n",
       "      <td>-84.321143</td>\n",
       "      <td>Steak 'n Shake</td>\n",
       "      <td>30260</td>\n",
       "      <td>GA</td>\n",
       "      <td>https://foursquare.com/v/steak-n-shake/4bcf77a...</td>\n",
       "      <td>http://www.steaknshake.com/locations/23851-ste...</td>\n",
       "      <td>30260</td>\n",
       "    </tr>\n",
       "  </tbody>\n",
       "</table>\n",
       "</div>"
      ],
      "text/plain": [
       "                     id             dateAdded           dateUpdated  \\\n",
       "0  AVwcmSyZIN2L1WUfmxyw  2015-10-19T23:47:58Z  2018-06-26T03:00:14Z   \n",
       "1  AVwcmSyZIN2L1WUfmxyw  2015-10-19T23:47:58Z  2018-06-26T03:00:14Z   \n",
       "2  AVwcopQoByjofQCxgfVa  2016-03-29T05:06:36Z  2018-06-26T02:59:52Z   \n",
       "3  AVweXN5RByjofQCxxilK  2017-01-03T07:46:11Z  2018-06-26T02:59:51Z   \n",
       "4  AWQ6MUvo3-Khe5l_j3SG  2018-06-26T02:59:43Z  2018-06-26T02:59:43Z   \n",
       "\n",
       "                address                                    categories  \\\n",
       "0      800 N Canal Blvd  American Restaurant and Fast Food Restaurant   \n",
       "1      800 N Canal Blvd                         Fast Food Restaurants   \n",
       "2   206 Wears Valley Rd                          Fast Food Restaurant   \n",
       "3          3652 Parkway                                     Fast Food   \n",
       "4  2118 Mt Zion Parkway                          Fast Food Restaurant   \n",
       "\n",
       "           city country                                           keys  \\\n",
       "0     Thibodaux      US       us/la/thibodaux/800ncanalblvd/1780593795   \n",
       "1     Thibodaux      US       us/la/thibodaux/800ncanalblvd/1780593795   \n",
       "2  Pigeon Forge      US  us/tn/pigeonforge/206wearsvalleyrd/-864103396   \n",
       "3  Pigeon Forge      US         us/tn/pigeonforge/3652parkway/93075755   \n",
       "4        Morrow      US      us/ga/morrow/2118mtzionparkway/1305117222   \n",
       "\n",
       "    latitude  longitude            name postalCode province  \\\n",
       "0  29.814697 -90.814742  SONIC Drive In      70301       LA   \n",
       "1  29.814697 -90.814742  SONIC Drive In      70301       LA   \n",
       "2  35.803788 -83.580553       Taco Bell      37863       TN   \n",
       "3  35.782339 -83.551408          Arby's      37863       TN   \n",
       "4  33.562738 -84.321143  Steak 'n Shake      30260       GA   \n",
       "\n",
       "                                          sourceURLs  \\\n",
       "0  https://foursquare.com/v/sonic-drive-in/4b7361...   \n",
       "1  https://foursquare.com/v/sonic-drive-in/4b7361...   \n",
       "2  https://www.yellowpages.com/pigeon-forge-tn/mi...   \n",
       "3  http://www.yellowbook.com/profile/arbys_163389...   \n",
       "4  https://foursquare.com/v/steak-n-shake/4bcf77a...   \n",
       "\n",
       "                                            websites zip5-2  \n",
       "0  https://locations.sonicdrivein.com/la/thibodau...  70301  \n",
       "1  https://locations.sonicdrivein.com/la/thibodau...  70301  \n",
       "2  http://www.tacobell.com,https://locations.taco...  37863  \n",
       "3  http://www.arbys.com,https://locations.arbys.c...  37863  \n",
       "4  http://www.steaknshake.com/locations/23851-ste...  30260  "
      ]
     },
     "execution_count": 79,
     "metadata": {},
     "output_type": "execute_result"
    }
   ],
   "source": [
    "ffood.head()"
   ]
  },
  {
   "cell_type": "code",
   "execution_count": 82,
   "metadata": {},
   "outputs": [
    {
     "data": {
      "text/plain": [
       "id              object\n",
       "dateAdded       object\n",
       "dateUpdated     object\n",
       "address         object\n",
       "categories      object\n",
       "city            object\n",
       "country         object\n",
       "keys            object\n",
       "latitude       float64\n",
       "longitude      float64\n",
       "name            object\n",
       "postalCode      object\n",
       "province        object\n",
       "sourceURLs      object\n",
       "websites        object\n",
       "zip5-2           int64\n",
       "dtype: object"
      ]
     },
     "execution_count": 82,
     "metadata": {},
     "output_type": "execute_result"
    }
   ],
   "source": [
    "ffood.dtypes"
   ]
  },
  {
   "cell_type": "markdown",
   "metadata": {
    "heading_collapsed": true,
    "hidden": true
   },
   "source": [
    "### Question 5 (Exercise!)"
   ]
  },
  {
   "cell_type": "markdown",
   "metadata": {
    "hidden": true
   },
   "source": [
    "Which restaurant chain has the greatest representation in San Francisco, CA? (This city covers the ZIP Codes 94100-94188.)"
   ]
  },
  {
   "cell_type": "code",
   "execution_count": 86,
   "metadata": {
    "hidden": true
   },
   "outputs": [],
   "source": [
    "# What you got?\n",
    "\n",
    "filter1 = ffood['zip5-2'] >= 94100\n",
    "\n",
    "filter2 = ffood['zip5-2'] <= 94188\n",
    "\n",
    "sf_df = ffood[filter1 & filter2]\n"
   ]
  },
  {
   "cell_type": "code",
   "execution_count": 89,
   "metadata": {},
   "outputs": [
    {
     "data": {
      "text/html": [
       "<div>\n",
       "<style scoped>\n",
       "    .dataframe tbody tr th:only-of-type {\n",
       "        vertical-align: middle;\n",
       "    }\n",
       "\n",
       "    .dataframe tbody tr th {\n",
       "        vertical-align: top;\n",
       "    }\n",
       "\n",
       "    .dataframe thead th {\n",
       "        text-align: right;\n",
       "    }\n",
       "</style>\n",
       "<table border=\"1\" class=\"dataframe\">\n",
       "  <thead>\n",
       "    <tr style=\"text-align: right;\">\n",
       "      <th></th>\n",
       "      <th>id</th>\n",
       "      <th>dateAdded</th>\n",
       "      <th>dateUpdated</th>\n",
       "      <th>address</th>\n",
       "      <th>categories</th>\n",
       "      <th>city</th>\n",
       "      <th>country</th>\n",
       "      <th>keys</th>\n",
       "      <th>latitude</th>\n",
       "      <th>longitude</th>\n",
       "      <th>name</th>\n",
       "      <th>postalCode</th>\n",
       "      <th>province</th>\n",
       "      <th>sourceURLs</th>\n",
       "      <th>websites</th>\n",
       "      <th>zip5-2</th>\n",
       "    </tr>\n",
       "  </thead>\n",
       "  <tbody>\n",
       "    <tr>\n",
       "      <th>1921</th>\n",
       "      <td>AVwcrPdmkufWRAb5x0Ez</td>\n",
       "      <td>2016-04-19T10:38:43Z</td>\n",
       "      <td>2018-06-18T11:45:36Z</td>\n",
       "      <td>865 Market St</td>\n",
       "      <td>Fast Food Restaurant</td>\n",
       "      <td>San Francisco</td>\n",
       "      <td>US</td>\n",
       "      <td>us/ca/sanfrancisco/865marketst/-1191797674</td>\n",
       "      <td>37.784791</td>\n",
       "      <td>-122.407185</td>\n",
       "      <td>Panda Express</td>\n",
       "      <td>94103</td>\n",
       "      <td>CA</td>\n",
       "      <td>http://www.citysearch.com/profile/866255/san_f...</td>\n",
       "      <td>http://expressfashion.com,http://www.expressfa...</td>\n",
       "      <td>94103</td>\n",
       "    </tr>\n",
       "    <tr>\n",
       "      <th>2206</th>\n",
       "      <td>AVwdg7hM_7pvs4fz6o2_</td>\n",
       "      <td>2016-03-24T09:36:00Z</td>\n",
       "      <td>2018-06-17T23:15:23Z</td>\n",
       "      <td>701 Sutter St</td>\n",
       "      <td>Fast Food</td>\n",
       "      <td>San Francisco</td>\n",
       "      <td>US</td>\n",
       "      <td>us/ca/sanfrancisco/701sutterst/-891525969</td>\n",
       "      <td>37.788837</td>\n",
       "      <td>-122.412042</td>\n",
       "      <td>Subway</td>\n",
       "      <td>94109</td>\n",
       "      <td>CA</td>\n",
       "      <td>https://www.allmenus.com/ca/san-francisco/5694...</td>\n",
       "      <td>http://subway.com/,http://subway.com</td>\n",
       "      <td>94109</td>\n",
       "    </tr>\n",
       "    <tr>\n",
       "      <th>2210</th>\n",
       "      <td>AVweg8GYkufWRAb5DpJt</td>\n",
       "      <td>2015-10-23T03:36:02Z</td>\n",
       "      <td>2018-06-17T23:15:21Z</td>\n",
       "      <td>653 Kearny St</td>\n",
       "      <td>Fast Food</td>\n",
       "      <td>San Francisco</td>\n",
       "      <td>US</td>\n",
       "      <td>us/ca/sanfrancisco/653kearnyst/-891525969</td>\n",
       "      <td>37.794220</td>\n",
       "      <td>-122.404783</td>\n",
       "      <td>Subway</td>\n",
       "      <td>94108</td>\n",
       "      <td>CA</td>\n",
       "      <td>https://www.allmenus.com/ca/san-francisco/5695...</td>\n",
       "      <td>http://subway.com/,http://subway.com</td>\n",
       "      <td>94108</td>\n",
       "    </tr>\n",
       "    <tr>\n",
       "      <th>2211</th>\n",
       "      <td>AVweWKL5ByjofQCxxZeI</td>\n",
       "      <td>2017-03-04T00:58:06Z</td>\n",
       "      <td>2018-06-17T23:15:21Z</td>\n",
       "      <td>99 Drumm St</td>\n",
       "      <td>Fast Food</td>\n",
       "      <td>San Francisco</td>\n",
       "      <td>US</td>\n",
       "      <td>us/ca/sanfrancisco/99drummst/-891525969</td>\n",
       "      <td>37.794523</td>\n",
       "      <td>-122.396660</td>\n",
       "      <td>Subway</td>\n",
       "      <td>94111</td>\n",
       "      <td>CA</td>\n",
       "      <td>https://www.trip.com/san-francisco/restaurants...</td>\n",
       "      <td>http://subway.com/,http://subway.com</td>\n",
       "      <td>94111</td>\n",
       "    </tr>\n",
       "    <tr>\n",
       "      <th>2213</th>\n",
       "      <td>AV1TrNu3LD2H7whiaJC8</td>\n",
       "      <td>2017-07-18T03:10:23Z</td>\n",
       "      <td>2018-06-17T23:15:20Z</td>\n",
       "      <td>101 Spear St</td>\n",
       "      <td>Fast Food</td>\n",
       "      <td>San Francisco</td>\n",
       "      <td>US</td>\n",
       "      <td>us/ca/sanfrancisco/101spearst/-891525969</td>\n",
       "      <td>37.792501</td>\n",
       "      <td>-122.393985</td>\n",
       "      <td>Subway</td>\n",
       "      <td>94105</td>\n",
       "      <td>CA</td>\n",
       "      <td>https://www.allmenus.com/ca/san-francisco/5692...</td>\n",
       "      <td>http://subway.com/</td>\n",
       "      <td>94105</td>\n",
       "    </tr>\n",
       "  </tbody>\n",
       "</table>\n",
       "</div>"
      ],
      "text/plain": [
       "                        id             dateAdded           dateUpdated  \\\n",
       "1921  AVwcrPdmkufWRAb5x0Ez  2016-04-19T10:38:43Z  2018-06-18T11:45:36Z   \n",
       "2206  AVwdg7hM_7pvs4fz6o2_  2016-03-24T09:36:00Z  2018-06-17T23:15:23Z   \n",
       "2210  AVweg8GYkufWRAb5DpJt  2015-10-23T03:36:02Z  2018-06-17T23:15:21Z   \n",
       "2211  AVweWKL5ByjofQCxxZeI  2017-03-04T00:58:06Z  2018-06-17T23:15:21Z   \n",
       "2213  AV1TrNu3LD2H7whiaJC8  2017-07-18T03:10:23Z  2018-06-17T23:15:20Z   \n",
       "\n",
       "            address            categories           city country  \\\n",
       "1921  865 Market St  Fast Food Restaurant  San Francisco      US   \n",
       "2206  701 Sutter St             Fast Food  San Francisco      US   \n",
       "2210  653 Kearny St             Fast Food  San Francisco      US   \n",
       "2211    99 Drumm St             Fast Food  San Francisco      US   \n",
       "2213   101 Spear St             Fast Food  San Francisco      US   \n",
       "\n",
       "                                            keys   latitude   longitude  \\\n",
       "1921  us/ca/sanfrancisco/865marketst/-1191797674  37.784791 -122.407185   \n",
       "2206   us/ca/sanfrancisco/701sutterst/-891525969  37.788837 -122.412042   \n",
       "2210   us/ca/sanfrancisco/653kearnyst/-891525969  37.794220 -122.404783   \n",
       "2211     us/ca/sanfrancisco/99drummst/-891525969  37.794523 -122.396660   \n",
       "2213    us/ca/sanfrancisco/101spearst/-891525969  37.792501 -122.393985   \n",
       "\n",
       "               name postalCode province  \\\n",
       "1921  Panda Express      94103       CA   \n",
       "2206         Subway      94109       CA   \n",
       "2210         Subway      94108       CA   \n",
       "2211         Subway      94111       CA   \n",
       "2213         Subway      94105       CA   \n",
       "\n",
       "                                             sourceURLs  \\\n",
       "1921  http://www.citysearch.com/profile/866255/san_f...   \n",
       "2206  https://www.allmenus.com/ca/san-francisco/5694...   \n",
       "2210  https://www.allmenus.com/ca/san-francisco/5695...   \n",
       "2211  https://www.trip.com/san-francisco/restaurants...   \n",
       "2213  https://www.allmenus.com/ca/san-francisco/5692...   \n",
       "\n",
       "                                               websites  zip5-2  \n",
       "1921  http://expressfashion.com,http://www.expressfa...   94103  \n",
       "2206               http://subway.com/,http://subway.com   94109  \n",
       "2210               http://subway.com/,http://subway.com   94108  \n",
       "2211               http://subway.com/,http://subway.com   94111  \n",
       "2213                                 http://subway.com/   94105  "
      ]
     },
     "execution_count": 89,
     "metadata": {},
     "output_type": "execute_result"
    }
   ],
   "source": [
    "sf_df.head()"
   ]
  },
  {
   "cell_type": "code",
   "execution_count": 87,
   "metadata": {},
   "outputs": [
    {
     "data": {
      "text/plain": [
       "Subway                     5\n",
       "Burger King                2\n",
       "Chipotle Mexican Grill     1\n",
       "VeganBurg                  1\n",
       "Panda Express              1\n",
       "McDonald's                 1\n",
       "De Afghanan Kabob House    1\n",
       "Taqueria                   1\n",
       "Pollo Campero              1\n",
       "Domino's Pizza             1\n",
       "Batter Up                  1\n",
       "Name: name, dtype: int64"
      ]
     },
     "execution_count": 87,
     "metadata": {},
     "output_type": "execute_result"
    }
   ],
   "source": [
    "sf_df.name.value_counts()"
   ]
  },
  {
   "cell_type": "markdown",
   "metadata": {
    "heading_collapsed": true,
    "hidden": true
   },
   "source": [
    "## Credit Card Data"
   ]
  },
  {
   "cell_type": "code",
   "execution_count": null,
   "metadata": {
    "hidden": true
   },
   "outputs": [],
   "source": [
    "credit = pd.read_csv('data/BankChurners.csv').iloc[:, :-2]"
   ]
  },
  {
   "cell_type": "code",
   "execution_count": null,
   "metadata": {
    "hidden": true
   },
   "outputs": [],
   "source": [
    "credit.head()"
   ]
  },
  {
   "cell_type": "code",
   "execution_count": null,
   "metadata": {
    "hidden": true
   },
   "outputs": [],
   "source": [
    "credit.describe()"
   ]
  },
  {
   "cell_type": "code",
   "execution_count": null,
   "metadata": {
    "hidden": true
   },
   "outputs": [],
   "source": [
    "credit['Attrition_Flag'].value_counts()"
   ]
  },
  {
   "cell_type": "markdown",
   "metadata": {
    "hidden": true
   },
   "source": [
    "We work for a credit card company and are worried about customers churning (becoming attrited)."
   ]
  },
  {
   "cell_type": "markdown",
   "metadata": {
    "heading_collapsed": true,
    "hidden": true
   },
   "source": [
    "### Question 1 (Exercise!)"
   ]
  },
  {
   "cell_type": "markdown",
   "metadata": {
    "hidden": true
   },
   "source": [
    "Get the means of the numerical columns for the existing and the attrited customers separately."
   ]
  },
  {
   "cell_type": "code",
   "execution_count": null,
   "metadata": {
    "hidden": true
   },
   "outputs": [],
   "source": [
    "# Write it"
   ]
  },
  {
   "cell_type": "markdown",
   "metadata": {
    "heading_collapsed": true,
    "hidden": true
   },
   "source": [
    "### Question 2 (Exercise!)"
   ]
  },
  {
   "cell_type": "markdown",
   "metadata": {
    "hidden": true
   },
   "source": [
    "Visualize the distributions of total revolving balances for each group."
   ]
  },
  {
   "cell_type": "code",
   "execution_count": null,
   "metadata": {
    "hidden": true
   },
   "outputs": [],
   "source": [
    "# PLOTS!"
   ]
  },
  {
   "cell_type": "markdown",
   "metadata": {
    "heading_collapsed": true,
    "hidden": true
   },
   "source": [
    "### Question 3 (Exercise!)"
   ]
  },
  {
   "cell_type": "markdown",
   "metadata": {
    "hidden": true
   },
   "source": [
    "Make two bar charts counting the numbers in each income category for each group separately."
   ]
  },
  {
   "cell_type": "code",
   "execution_count": null,
   "metadata": {
    "hidden": true
   },
   "outputs": [],
   "source": [
    "# CHARTS!"
   ]
  },
  {
   "cell_type": "markdown",
   "metadata": {
    "heading_collapsed": true
   },
   "source": [
    "# Level Up: Other Shape Descriptors"
   ]
  },
  {
   "cell_type": "markdown",
   "metadata": {
    "hidden": true
   },
   "source": [
    "Here are a few other ways that people describe the distributions of data."
   ]
  },
  {
   "cell_type": "markdown",
   "metadata": {
    "heading_collapsed": true,
    "hidden": true
   },
   "source": [
    "## Moments"
   ]
  },
  {
   "cell_type": "markdown",
   "metadata": {
    "hidden": true
   },
   "source": [
    "The mean is related to $\\Sigma(x_i - \\bar{x})$ while the standard deviation is related to $\\Sigma(x_i - \\bar{x})^2$. We could consider higher exponents as well, of the form $\\Sigma(x_i - \\bar{x})^n$. For each exponent $n>0$, we can define a related statistical **moment**. For $n=3$, the moment is called the **skewness**, which is a measure of how the mean and median diverge. For $n=4$, the moment is called the **kurtosis**, which is a measure of how many values are relatively far from the mean.\n",
    "\n",
    "There are a few different definitions of skewness and kurtosis that are commonly used, but the basic quantities are:\n",
    "\n",
    "- $\\frac{\\Sigma(x_i - \\bar{x})^3}{n\\sigma^3}$ (for skewness)\n",
    "- $\\frac{\\Sigma(x_i - \\bar{x})^4}{n\\sigma^4}$ (for kurtosis)\n",
    "\n",
    "For more on statistical moments, see [here](https://www.statisticshowto.datasciencecentral.com/what-is-a-moment/) and [here](https://www.spcforexcel.com/knowledge/basic-statistics/are-skewness-and-kurtosis-useful-statistics)."
   ]
  },
  {
   "cell_type": "markdown",
   "metadata": {
    "heading_collapsed": true,
    "hidden": true
   },
   "source": [
    "### Skewness"
   ]
  },
  {
   "cell_type": "markdown",
   "metadata": {
    "hidden": true
   },
   "source": [
    "![skew](images/skew.png)"
   ]
  },
  {
   "cell_type": "code",
   "execution_count": null,
   "metadata": {
    "hidden": true
   },
   "outputs": [],
   "source": [
    "stats.skew(data)"
   ]
  },
  {
   "cell_type": "markdown",
   "metadata": {
    "heading_collapsed": true,
    "hidden": true
   },
   "source": [
    "### Kurtosis"
   ]
  },
  {
   "cell_type": "markdown",
   "metadata": {
    "hidden": true
   },
   "source": [
    "![kurt](images/kurtosis.png)"
   ]
  },
  {
   "cell_type": "code",
   "execution_count": null,
   "metadata": {
    "hidden": true
   },
   "outputs": [],
   "source": [
    "stats.kurtosis(data)"
   ]
  },
  {
   "cell_type": "markdown",
   "metadata": {
    "hidden": true
   },
   "source": [
    "What if we want to visualize the three histograms together?"
   ]
  },
  {
   "cell_type": "markdown",
   "metadata": {
    "heading_collapsed": true,
    "hidden": true
   },
   "source": [
    "## Symmetry"
   ]
  },
  {
   "cell_type": "code",
   "execution_count": 90,
   "metadata": {
    "hidden": true
   },
   "outputs": [
    {
     "data": {
      "image/png": "[encoded data removed]",
      "text/plain": [
       "<Figure size 576x504 with 1 Axes>"
      ]
     },
     "metadata": {},
     "output_type": "display_data"
    },
    {
     "data": {
      "image/png": "[encoded data removed]",
      "text/plain": [
       "<Figure size 576x504 with 1 Axes>"
      ]
     },
     "metadata": {},
     "output_type": "display_data"
    }
   ],
   "source": [
    "X = np.linspace(-3, 3, 40)\n",
    "y = stats.norm.pdf(X) + 0.05 * np.random.rand(40)\n",
    "\n",
    "fig, ax = plt.subplots(figsize=(8, 7))\n",
    "ax.plot(X, y, lw=5)\n",
    "ax.vlines(x=0, ymin=0, ymax=0.5, colors = \"black\")\n",
    "plt.title('Symmetric Distribution');\n",
    "\n",
    "X = np.linspace(0, 1, 40)\n",
    "y = stats.expon.pdf(X) + 0.05 * np.random.rand(40)\n",
    "\n",
    "fig, ax = plt.subplots(figsize=(8, 7))\n",
    "ax.plot(X, y, lw=5)\n",
    "plt.title('Asymmetric Distribution');"
   ]
  },
  {
   "cell_type": "markdown",
   "metadata": {
    "heading_collapsed": true,
    "hidden": true
   },
   "source": [
    "## Modality"
   ]
  },
  {
   "cell_type": "code",
   "execution_count": 91,
   "metadata": {
    "hidden": true
   },
   "outputs": [
    {
     "data": {
      "image/png": "[encoded data removed]",
      "text/plain": [
       "<Figure size 576x504 with 1 Axes>"
      ]
     },
     "metadata": {},
     "output_type": "display_data"
    },
    {
     "data": {
      "image/png": "[encoded data removed]",
      "text/plain": [
       "<Figure size 576x504 with 1 Axes>"
      ]
     },
     "metadata": {},
     "output_type": "display_data"
    }
   ],
   "source": [
    "X = np.linspace(0, 1, 40)\n",
    "y = stats.uniform.pdf(X) + 0.05 * np.random.rand(40)\n",
    "\n",
    "fig, ax = plt.subplots(figsize=(8, 7))\n",
    "ax.plot(X, y, lw=5)\n",
    "plt.ylim(0.5, 1.5)\n",
    "plt.title('Flat Distribution');\n",
    "\n",
    "X = np.linspace(-5, 5, 40)\n",
    "y = stats.norm.pdf(X, loc=-2) + stats.norm.pdf(X, loc=2)\\\n",
    "+ 0.05 * np.random.rand(40)\n",
    "\n",
    "fig, ax = plt.subplots(figsize=(8, 7))\n",
    "ax.plot(X, y, lw=5)\n",
    "plt.title('Bimodal Distribution');"
   ]
  },
  {
   "cell_type": "code",
   "execution_count": null,
   "metadata": {
    "hidden": true
   },
   "outputs": [],
   "source": []
  }
 ],
 "metadata": {
  "kernelspec": {
   "display_name": "Python 3",
   "language": "python",
   "name": "python3"
  },
  "language_info": {
   "codemirror_mode": {
    "name": "ipython",
    "version": 3
   },
   "file_extension": ".py",
   "mimetype": "text/x-python",
   "name": "python",
   "nbconvert_exporter": "python",
   "pygments_lexer": "ipython3",
   "version": "3.8.5"
  },
  "toc": {
   "base_numbering": 1,
   "nav_menu": {},
   "number_sections": true,
   "sideBar": true,
   "skip_h1_title": false,
   "title_cell": "Table of Contents",
   "title_sidebar": "TOC",
   "toc_cell": true,
   "toc_position": {
    "height": "calc(100% - 180px)",
    "left": "10px",
    "top": "150px",
    "width": "288px"
   },
   "toc_section_display": true,
   "toc_window_display": true
  },
  "varInspector": {
   "cols": {
    "lenName": 16,
    "lenType": 16,
    "lenVar": 40
   },
   "kernels_config": {
    "python": {
     "delete_cmd_postfix": "",
     "delete_cmd_prefix": "del ",
     "library": "var_list.py",
     "varRefreshCmd": "print(var_dic_list())"
    },
    "r": {
     "delete_cmd_postfix": ") ",
     "delete_cmd_prefix": "rm(",
     "library": "var_list.r",
     "varRefreshCmd": "cat(var_dic_list()) "
    }
   },
   "types_to_exclude": [
    "module",
    "function",
    "builtin_function_or_method",
    "instance",
    "_Feature"
   ],
   "window_display": true
  }
 },
 "nbformat": 4,
 "nbformat_minor": 2
}
